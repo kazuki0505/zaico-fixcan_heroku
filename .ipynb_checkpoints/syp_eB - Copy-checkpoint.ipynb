{
 "cells": [
  {
   "cell_type": "code",
   "execution_count": 9,
   "metadata": {},
   "outputs": [],
   "source": [
    "\n",
    "from selenium import webdriver\n",
    "# from modules_scraping import tenki_at2sy as tenki\n",
    "# import tenki_at2sy as tenki\n",
    "import os\n",
    "import pandas as pd\n",
    "import shutil\n",
    "import time\n",
    "# from modules_scraping import addItem_ebay as add_ebay\n",
    "# import addItem_ebay as add_ebay\n",
    "# addItem_ebayは、別ファイルに収めず、このファイルに関数として入れてしまおう\n",
    "import xlwings as xw\n",
    "from selenium.common.exceptions import NoSuchElementException"
   ]
  },
  {
   "cell_type": "code",
   "execution_count": 10,
   "metadata": {},
   "outputs": [],
   "source": [
    "f = r'C:\\Users\\Kazuki Yuno\\Desktop\\00.Myself\\04.Buyer\\2.出品\\syuppin_auc\\syuppin_ebay49.csv'\n",
    "app = xw.App(visible=False)\n",
    "wb = app.books.open(f)  # XWは、CSVを修正出来る  # (f)は一旦なし\n",
    "sheet = wb.sheets(1)\n",
    "sheet['F2:F500'].number_format = '0' # カテゴリ、商品数、状態の数値に、[.0]がつくのを防ぐ試み\n",
    "sheet['L2:L500'].number_format = '0'\n",
    "sheet['M2:M500'].number_format = '0'\n",
    "wb.save()\n",
    "app.kill()\n",
    "\n",
    "id_list = ['caoilejunoh@gmail.com', 'yunome0505@gmail.com', 'yuno.nuevo.nomada@gmail.com',\n",
    "               'yunomekazuki@gmail.com', 'geijutsu.yuno@gmail.com', 'comprador.yuno@gmail.com']\n",
    "id = id_list[0]  # 0~5\n",
    "browser = webdriver.Chrome(r'C:\\\\Users\\\\Kazuki Yuno\\\\Desktop\\\\chromedriver_win32\\\\chromedriver.exe')  # \\\\\n",
    "browser.get('https://global.auctown.jp/items/create/bulk')  # 一括出品用ページ\n",
    "    # アカウント切替時はIDとパスワード入力。てかアカ毎にブラウザ切り替えなくていいか\n",
    "email = browser.find_element_by_id('email')\n",
    "email.send_keys(id)\n",
    "passwd = browser.find_element_by_id('passwd')\n",
    "passwd.send_keys('larc1225')\n",
    "time.sleep(3)\n",
    "login = browser.find_element_by_id('submit')\n",
    "login.click()\n",
    "time.sleep(10)\n",
    "    #f = r'C:\\Users\\Kazuki Yuno\\Desktop\\00.Myself\\04.Buyer\\2.出品\\syuppin_auc\\syuppin_ebay36.csv'\n",
    "browser.find_element_by_id('upload_csv').send_keys(f)  # csv_auc ではない\n",
    "time.sleep(10)\n",
    "check = browser.find_element_by_xpath(\"//input[@type='checkbox']\") #\n",
    "browser.execute_script(\"arguments[0].click();\", check)\n",
    "    # check.click()\n",
    "time.sleep(5)\n",
    "    # 出品ボタン\n",
    "addItem = browser.find_element_by_id(\"add-items\")\n",
    "    # addItem = browser.find_element_by_css_selector(\"#add-items\") # Selector は# 要らない？？\n",
    "browser.execute_script(\"arguments[0].click();\", addItem)  # コレで成功\n"
   ]
  },
  {
   "cell_type": "code",
   "execution_count": 2,
   "metadata": {},
   "outputs": [
    {
     "ename": "TabError",
     "evalue": "inconsistent use of tabs and spaces in indentation (<ipython-input-2-374d340991c2>, line 7)",
     "output_type": "error",
     "traceback": [
      "\u001b[1;36m  File \u001b[1;32m\"<ipython-input-2-374d340991c2>\"\u001b[1;36m, line \u001b[1;32m7\u001b[0m\n\u001b[1;33m    except NoSuchElementException:\u001b[0m\n\u001b[1;37m                                  ^\u001b[0m\n\u001b[1;31mTabError\u001b[0m\u001b[1;31m:\u001b[0m inconsistent use of tabs and spaces in indentation\n"
     ]
    }
   ],
   "source": [
    "\n",
    "done = None\n",
    "while not done: # 待つ動作を繰り返し、もし[１００％]の要素が見えたら、break \n",
    "    #これCSSSelectorで駄目だった\n",
    "    try:\n",
    "        time.sleep(10)\n",
    "        done = browser.find_element_by_css_selector('#progress > div.progress-project-header > span')\n",
    "\texcept NoSuchElementException:\n",
    "    \ttime.sleep(5)\n",
    "\n",
    "browser.quit()\n",
    "\n",
    "# sypUp(r'C:\\Users\\Kazuki Yuno\\Desktop\\00.Myself\\04.Buyer\\2.出品\\syuppin_auc\\syuppin_ebay49.csv')"
   ]
  },
  {
   "cell_type": "code",
   "execution_count": null,
   "metadata": {},
   "outputs": [],
   "source": []
  },
  {
   "cell_type": "code",
   "execution_count": null,
   "metadata": {},
   "outputs": [],
   "source": []
  },
  {
   "cell_type": "code",
   "execution_count": null,
   "metadata": {},
   "outputs": [],
   "source": [
    "##何通りかある"
   ]
  },
  {
   "cell_type": "code",
   "execution_count": null,
   "metadata": {},
   "outputs": [],
   "source": [
    "element = WebDriverWait(browser, 10).until(expected_conditions.visibility_of_element_located((\n",
    "    By.CSS_S"
   ]
  },
  {
   "cell_type": "code",
   "execution_count": null,
   "metadata": {},
   "outputs": [],
   "source": [
    "element = WebDriverWait(driver, 10).until(\n",
    "    EC.presence_of_element_located((By.ID, \"myDynamicElement\"))"
   ]
  },
  {
   "cell_type": "code",
   "execution_count": null,
   "metadata": {},
   "outputs": [],
   "source": [
    "element = WebDriverWait(driver, 10).until(\n",
    "   EC.presence_of_element_located((By.XPATH, \"//*[@id=\"progress\"]/div[1]/span/following-sibling::span[1]\")"
   ]
  },
  {
   "cell_type": "code",
   "execution_count": 6,
   "metadata": {},
   "outputs": [
    {
     "ename": "SyntaxError",
     "evalue": "invalid syntax (<ipython-input-6-cad780392d40>, line 39)",
     "output_type": "error",
     "traceback": [
      "\u001b[1;36m  File \u001b[1;32m\"<ipython-input-6-cad780392d40>\"\u001b[1;36m, line \u001b[1;32m39\u001b[0m\n\u001b[1;33m    browser.quit()\u001b[0m\n\u001b[1;37m          ^\u001b[0m\n\u001b[1;31mSyntaxError\u001b[0m\u001b[1;31m:\u001b[0m invalid syntax\n"
     ]
    }
   ],
   "source": [
    "def sypUp(f):\n",
    "    app = xw.App(visible=False)\n",
    "    wb = app.books.open(f)  # XWは、CSVを修正出来る  # (f)は一旦なし\n",
    "    sheet = wb.sheets(1)\n",
    "    sheet['F2:F500'].number_format = '0' # カテゴリ、商品数、状態の数値に、[.0]がつくのを防ぐ試み\n",
    "    sheet['L2:L500'].number_format = '0'\n",
    "    sheet['M2:M500'].number_format = '0'\n",
    "    wb.save()\n",
    "    app.kill()\n",
    "\n",
    "    id_list = ['caoilejunoh@gmail.com', 'yunome0505@gmail.com', 'yuno.nuevo.nomada@gmail.com',\n",
    "               'yunomekazuki@gmail.com', 'geijutsu.yuno@gmail.com', 'comprador.yuno@gmail.com']\n",
    "    id = id_list[0]  # 0~5\n",
    "    browser = webdriver.Chrome(r'C:\\\\Users\\\\Kazuki Yuno\\\\Desktop\\\\chromedriver_win32\\\\chromedriver.exe')  # \\\\\n",
    "    browser.get('https://global.auctown.jp/items/create/bulk')  # 一括出品用ページ\n",
    "    # アカウント切替時はIDとパスワード入力。てかアカ毎にブラウザ切り替えなくていいか\n",
    "    email = browser.find_element_by_id('email')\n",
    "    email.send_keys(id)\n",
    "    passwd = browser.find_element_by_id('passwd')\n",
    "    passwd.send_keys('larc1225')\n",
    "    time.sleep(3)\n",
    "    login = browser.find_element_by_id('submit')\n",
    "    login.click()\n",
    "    time.sleep(10)\n",
    "    #f = r'C:\\Users\\Kazuki Yuno\\Desktop\\00.Myself\\04.Buyer\\2.出品\\syuppin_auc\\syuppin_ebay36.csv'\n",
    "    browser.find_element_by_id('upload_csv').send_keys(f)  # csv_auc ではない\n",
    "    time.sleep(10)\n",
    "    check = browser.find_element_by_xpath(\"//input[@type='checkbox']\") #\n",
    "    browser.execute_script(\"arguments[0].click();\", check)\n",
    "    # check.click()\n",
    "    time.sleep(5)\n",
    "    # 出品ボタン\n",
    "    addItem = browser.find_element_by_id(\"add-items\")\n",
    "    # addItem = browser.find_element_by_css_selector(\"#add-items\") # Selector は# 要らない？？\n",
    "    browser.execute_script(\"arguments[0].click();\", addItem)  # コレで成功\n",
    "\n",
    "    element = WebDriverWait(browser, 10).until(EC.presence_of_element_located((\n",
    "        By.XPATH, '//*[@id=\"progress\"]/div[1]/span/following-sibling::span[1]'))\n",
    "\tbrowser.quit()\n",
    "\n",
    "sypUp(r'C:\\Users\\Kazuki Yuno\\Desktop\\00.Myself\\04.Buyer\\2.出品\\syuppin_auc\\syuppin_ebay49.csv')"
   ]
  },
  {
   "cell_type": "code",
   "execution_count": null,
   "metadata": {},
   "outputs": [],
   "source": []
  },
  {
   "cell_type": "code",
   "execution_count": null,
   "metadata": {},
   "outputs": [],
   "source": []
  },
  {
   "cell_type": "markdown",
   "metadata": {},
   "source": [
    "## skiprows=range(A, B)"
   ]
  },
  {
   "cell_type": "code",
   "execution_count": 7,
   "metadata": {},
   "outputs": [],
   "source": [
    "import xlwings as xw\n",
    "import pandas as pd\n",
    "from pathlib import Path\n",
    "import os"
   ]
  },
  {
   "cell_type": "code",
   "execution_count": 8,
   "metadata": {},
   "outputs": [
    {
     "name": "stdout",
     "output_type": "stream",
     "text": [
      "C:\\Users\\Kazuki Yuno\\Downloads\\913673530320200309_075506.csv\n",
      "36\n"
     ]
    }
   ],
   "source": [
    "\n",
    "dirname = r\"C:\\Users\\Kazuki Yuno\\Downloads\"\n",
    "p = Path(dirname)\n",
    "files = list(p.glob(\"*\"))\n",
    "file_updates = {file_path: os.stat(file_path).st_mtime for file_path in files}\n",
    "newest_fPath = max(file_updates, key=file_updates.get)\n",
    "print(newest_fPath)\n",
    "\n",
    "app = xw.App(visible=False)\n",
    "wb = app.books.open(newest_fPath)\n",
    "# rng = ws.range()\n",
    "sht = wb.sheets(1)\n",
    "\n",
    "lastRow = sht.range('A1').end(-4121).row  # H1にしていた  タイトル列\n",
    "print(lastRow)\n",
    "nextRow = lastRow + 1\n",
    "\n"
   ]
  },
  {
   "cell_type": "code",
   "execution_count": 15,
   "metadata": {},
   "outputs": [],
   "source": [
    "##  header=None, skiprows=nextRow だとヘッダー（列名の行）消える"
   ]
  },
  {
   "cell_type": "code",
   "execution_count": 13,
   "metadata": {
    "collapsed": true,
    "jupyter": {
     "outputs_hidden": true
    }
   },
   "outputs": [
    {
     "name": "stdout",
     "output_type": "stream",
     "text": [
      "       0   1                                                  2   \\\n",
      "0      US NaN  182fd2ef-0098-4562-8f30-bd55f553be53-l57389937...   \n",
      "1      US NaN  f649f69d-abbf-4c6b-8fc3-223204512397-v69253665...   \n",
      "2      US NaN  29022848-40f5-4800-900a-1d7a7fb9c1e2-l57869319...   \n",
      "3      US NaN  7c163217-0054-4663-a999-891be14c7dd3-b45117334...   \n",
      "4      US NaN  37da4d1a-a40c-41a5-a0f5-c464c54de4af-u33861594...   \n",
      "...   ...  ..                                                ...   \n",
      "1209  NaN NaN                                                NaN   \n",
      "1210  NaN NaN                                                NaN   \n",
      "1211  NaN NaN                                                NaN   \n",
      "1212  NaN NaN                                                NaN   \n",
      "1213  NaN NaN                                                NaN   \n",
      "\n",
      "                                                     3        4   5   6   7   \\\n",
      "0     [Inventory] Overseas painting genuine] Interna...  13666.0 NaN NaN NaN   \n",
      "1     Dragon Ball Figure Ichiban Kuji Prize E Prize ...  13666.0 NaN NaN NaN   \n",
      "2     Dragon Ball Z SMSP THE VEGETA Vegeta SUPER MAS...  13666.0 NaN NaN NaN   \n",
      "3     Ichiban Kuji SUPER MASTER STARS PIECE SMSP Sup...  13666.0 NaN NaN NaN   \n",
      "4     New Ichiban Kuji Dragon Ball EXTREME SAIYAN C ...  13666.0 NaN NaN NaN   \n",
      "...                                                 ...      ...  ..  ..  ..   \n",
      "1209                                                  0  13666.0 NaN NaN NaN   \n",
      "1210                                                NaN      NaN NaN NaN NaN   \n",
      "1211                                                NaN      NaN NaN NaN NaN   \n",
      "1212                                                NaN      NaN NaN NaN NaN   \n",
      "1213                                                NaN      NaN NaN NaN NaN   \n",
      "\n",
      "      8                                                  9   ...  43  44  45  \\\n",
      "0    NaN  <div class=\"main1\" style=\"\"><h1 style=\"text-al...  ... NaN NaN NaN   \n",
      "1    NaN  <div class=\"main1\" style=\"\"><h1 style=\"text-al...  ... NaN NaN NaN   \n",
      "2    NaN  <div class=\"main1\" style=\"\"><h1 style=\"text-al...  ... NaN NaN NaN   \n",
      "3    NaN  <div class=\"main1\" style=\"\"><h1 style=\"text-al...  ... NaN NaN NaN   \n",
      "4    NaN  <div class=\"main1\" style=\"\"><h1 style=\"text-al...  ... NaN NaN NaN   \n",
      "...   ..                                                ...  ...  ..  ..  ..   \n",
      "1209 NaN  <div class=\"main1\" style=\"\"><h1 style=\"text-al...  ... NaN NaN NaN   \n",
      "1210 NaN                                                NaN  ... NaN NaN NaN   \n",
      "1211 NaN                                                NaN  ... NaN NaN NaN   \n",
      "1212 NaN                                                NaN  ... NaN NaN NaN   \n",
      "1213 NaN                                                NaN  ... NaN NaN NaN   \n",
      "\n",
      "      46  47  48  49  50  51  52  \n",
      "0    NaN NaN NaN NaN NaN NaN NaN  \n",
      "1    NaN NaN NaN NaN NaN NaN NaN  \n",
      "2    NaN NaN NaN NaN NaN NaN NaN  \n",
      "3    NaN NaN NaN NaN NaN NaN NaN  \n",
      "4    NaN NaN NaN NaN NaN NaN NaN  \n",
      "...   ..  ..  ..  ..  ..  ..  ..  \n",
      "1209 NaN NaN NaN NaN NaN NaN NaN  \n",
      "1210 NaN NaN NaN NaN NaN NaN NaN  \n",
      "1211 NaN NaN NaN NaN NaN NaN NaN  \n",
      "1212 NaN NaN NaN NaN NaN NaN NaN  \n",
      "1213 NaN NaN NaN NaN NaN NaN NaN  \n",
      "\n",
      "[1214 rows x 53 columns]\n"
     ]
    }
   ],
   "source": [
    "\n",
    "at = r\"C:/Users/Kazuki Yuno/Desktop/00.Myself/04.Buyer/1.利益計算/AtackList_Buyer43.xlsx\"\n",
    "df = pd.read_excel(at, sheet_name='清書_詳細', index=None, header=None, skiprows=nextRow) #encoding=\"SHIFT-JIS\") # encoding='cp932' 文字化けする\n",
    "aa\n",
    "print(df)\n",
    "syp_csv = r'syuppin_ebay%s.csv'\n",
    "    # Syuppinディレごと、出品ディレ下に置きたい。FixもCancelディレも同じ用に。\n",
    "    # だが、それ設定するとエラー起きる。Shutil.moveするか\n",
    "i = 0\n",
    "    # renbanName = csv_auc % i\n",
    "while os.path.exists(syp_csv % i):\n",
    "\ti += 1\n",
    "        #df.to_csv(csv_auc % i, index=False, encoding=\"SHIFT-JIS\") #encoding = 'shift_jis'\n",
    "        # cp932つまりは、shift-jisで、割り当てられてない文字を書き出そうとしたときに発生するエラー。起きがちなのは上で例に上げている\"\\xa0\"や\"\\3000\"などでよくエラーを出す\n",
    "        # 上記エラーを防ぐため、一度ファイルオブジェクトをエラー無視、書き込みで開く\n",
    "with open(syp_csv % i, mode=\"w\", newline=\"\", encoding=\"utf-8_sig\") as f:# encoding='cp1252' errors=\"ignore\",  デフォルトがencoding=\"cp932\"\n",
    "    df.to_csv(f)"
   ]
  },
  {
   "cell_type": "code",
   "execution_count": 16,
   "metadata": {},
   "outputs": [],
   "source": [
    "## これまでのコード"
   ]
  },
  {
   "cell_type": "code",
   "execution_count": 14,
   "metadata": {
    "collapsed": true,
    "jupyter": {
     "outputs_hidden": true
    }
   },
   "outputs": [
    {
     "name": "stdout",
     "output_type": "stream",
     "text": [
      "     サイトID  アイテムID                                                SKU  \\\n",
      "0       US     NaN  918667a3-2570-4f81-9647-270fbd81e252-l58525706...   \n",
      "1       US     NaN  6c680fe8-5693-4ea7-a114-0495ec7466b5-g40828838...   \n",
      "2       US     NaN  346ff8a3-1273-45bf-9624-6594713a8f51-h45720462...   \n",
      "3       US     NaN  77bedb58-2b2f-4b61-86c2-a9829804e9a4-m39407061...   \n",
      "4       US     NaN  a1bb5ff0-7330-49d4-9631-8650d7111c96-456998833...   \n",
      "...    ...     ...                                                ...   \n",
      "1245   NaN     NaN                                                NaN   \n",
      "1246   NaN     NaN                                                NaN   \n",
      "1247   NaN     NaN                                                NaN   \n",
      "1248   NaN     NaN                                                NaN   \n",
      "1249   NaN     NaN                                                NaN   \n",
      "\n",
      "                                                   タイトル     カテゴリ  サブカテゴリ  \\\n",
      "0     Figure THE BRUSH Ⅱ Award Super Saiyan Gogeta A...  13666.0     NaN   \n",
      "1     Figure Last One Award Super Saiyan Broly Full ...  13666.0     NaN   \n",
      "2     BANDAI BANDAI Ichiban Kuji Dragon Ball ULTIMAT...  13666.0     NaN   \n",
      "3     Blister not opened figure last one prize Super...  13666.0     NaN   \n",
      "4     Prize A Son Goku (Selfishness) Figure Ichiban ...  13666.0     NaN   \n",
      "...                                                 ...      ...     ...   \n",
      "1245                                                  0  13666.0     NaN   \n",
      "1246                                                NaN      NaN     NaN   \n",
      "1247                                                NaN      NaN     NaN   \n",
      "1248                                                NaN      NaN     NaN   \n",
      "1249                                                NaN      NaN     NaN   \n",
      "\n",
      "      ストアカテゴリ  第2ストアカテゴリ  テンプレート  \\\n",
      "0         NaN        NaN     NaN   \n",
      "1         NaN        NaN     NaN   \n",
      "2         NaN        NaN     NaN   \n",
      "3         NaN        NaN     NaN   \n",
      "4         NaN        NaN     NaN   \n",
      "...       ...        ...     ...   \n",
      "1245      NaN        NaN     NaN   \n",
      "1246      NaN        NaN     NaN   \n",
      "1247      NaN        NaN     NaN   \n",
      "1248      NaN        NaN     NaN   \n",
      "1249      NaN        NaN     NaN   \n",
      "\n",
      "                                                   商品説明  ...  UPC  ISBN  \\\n",
      "0     <div class=\"main1\" style=\"\"><h1 style=\"text-al...  ...  NaN   NaN   \n",
      "1     <div class=\"main1\" style=\"\"><h1 style=\"text-al...  ...  NaN   NaN   \n",
      "2     <div class=\"main1\" style=\"\"><h1 style=\"text-al...  ...  NaN   NaN   \n",
      "3     <div class=\"main1\" style=\"\"><h1 style=\"text-al...  ...  NaN   NaN   \n",
      "4     <div class=\"main1\" style=\"\"><h1 style=\"text-al...  ...  NaN   NaN   \n",
      "...                                                 ...  ...  ...   ...   \n",
      "1245  <div class=\"main1\" style=\"\"><h1 style=\"text-al...  ...  NaN   NaN   \n",
      "1246                                                NaN  ...  NaN   NaN   \n",
      "1247                                                NaN  ...  NaN   NaN   \n",
      "1248                                                NaN  ...  NaN   NaN   \n",
      "1249                                                NaN  ...  NaN   NaN   \n",
      "\n",
      "      Brand MPN EAN 荷物の幅  荷物の奥行き 荷物の長さ 荷物の重量 適合車種  \n",
      "0       NaN NaN NaN  NaN     NaN   NaN   NaN  NaN  \n",
      "1       NaN NaN NaN  NaN     NaN   NaN   NaN  NaN  \n",
      "2       NaN NaN NaN  NaN     NaN   NaN   NaN  NaN  \n",
      "3       NaN NaN NaN  NaN     NaN   NaN   NaN  NaN  \n",
      "4       NaN NaN NaN  NaN     NaN   NaN   NaN  NaN  \n",
      "...     ...  ..  ..  ...     ...   ...   ...  ...  \n",
      "1245    NaN NaN NaN  NaN     NaN   NaN   NaN  NaN  \n",
      "1246    NaN NaN NaN  NaN     NaN   NaN   NaN  NaN  \n",
      "1247    NaN NaN NaN  NaN     NaN   NaN   NaN  NaN  \n",
      "1248    NaN NaN NaN  NaN     NaN   NaN   NaN  NaN  \n",
      "1249    NaN NaN NaN  NaN     NaN   NaN   NaN  NaN  \n",
      "\n",
      "[1250 rows x 53 columns]\n"
     ]
    }
   ],
   "source": [
    "df = pd.read_excel(at, sheet_name='清書_詳細', index=None) #encoding=\"SHIFT-JIS\") # encoding='cp932' 文字化けする\n",
    "print(df)\n",
    "syp_csv = r'syuppin_ebay%s.csv'\n",
    "    # Syuppinディレごと、出品ディレ下に置きたい。FixもCancelディレも同じ用に。\n",
    "    # だが、それ設定するとエラー起きる。Shutil.moveするか\n",
    "i = 0\n",
    "    # renbanName = csv_auc % i\n",
    "while os.path.exists(syp_csv % i):\n",
    "\ti += 1\n",
    "        #df.to_csv(csv_auc % i, index=False, encoding=\"SHIFT-JIS\") #encoding = 'shift_jis'\n",
    "        # cp932つまりは、shift-jisで、割り当てられてない文字を書き出そうとしたときに発生するエラー。起きがちなのは上で例に上げている\"\\xa0\"や\"\\3000\"などでよくエラーを出す\n",
    "        # 上記エラーを防ぐため、一度ファイルオブジェクトをエラー無視、書き込みで開く\n",
    "with open(syp_csv % i, mode=\"w\", newline=\"\", encoding=\"utf-8_sig\") as f:# encoding='cp1252' errors=\"ignore\",  デフォルトがencoding=\"cp932\"\n",
    "    df.to_csv(f)"
   ]
  },
  {
   "cell_type": "code",
   "execution_count": 19,
   "metadata": {},
   "outputs": [],
   "source": [
    "## 列名残しつつ、３６行目以降を表示したい>> skiprows=range(A, B)で解決"
   ]
  },
  {
   "cell_type": "code",
   "execution_count": 18,
   "metadata": {
    "collapsed": true,
    "jupyter": {
     "outputs_hidden": true
    }
   },
   "outputs": [
    {
     "name": "stdout",
     "output_type": "stream",
     "text": [
      "     サイトID  アイテムID                                                SKU  \\\n",
      "0       US     NaN  d6fb22f2-b71a-4d6a-9462-792e8e7bf9f3-e41660102...   \n",
      "1       US     NaN  5ee54151-741e-49e8-b5fe-66db8106c1f8-m39376189...   \n",
      "2       US     NaN  b8b46d8a-5779-45a8-81cf-172ba93bd357-o37404185...   \n",
      "3       US     NaN  822f8e58-9e6f-4d81-9fb2-e3ed5e288db7-l58207743...   \n",
      "4       US     NaN  5ac62fe2-e79d-4799-a684-aea1d0a22a1f-h45629913...   \n",
      "...    ...     ...                                                ...   \n",
      "1236   NaN     NaN                                                NaN   \n",
      "1237   NaN     NaN                                                NaN   \n",
      "1238   NaN     NaN                                                NaN   \n",
      "1239   NaN     NaN                                                NaN   \n",
      "1240   NaN     NaN                                                NaN   \n",
      "\n",
      "                                                   タイトル     カテゴリ  サブカテゴリ  \\\n",
      "0     Figure Prize A Super Saiyan 4 Gogeta Ichiban K...  13666.0     NaN   \n",
      "1     [New unopened] Ichiban Kuji Dragon Ball Super ...  13666.0     NaN   \n",
      "2     Free shipping (excluding remote islands) Amuse...  13666.0     NaN   \n",
      "3     Ichiban Kuji Dragon Ball Memories Prize B Supe...  13666.0     NaN   \n",
      "4     [Stock sale regular article] Dragon Ball SMSP ...  13666.0     NaN   \n",
      "...                                                 ...      ...     ...   \n",
      "1236                                                  0  13666.0     NaN   \n",
      "1237                                                NaN      NaN     NaN   \n",
      "1238                                                NaN      NaN     NaN   \n",
      "1239                                                NaN      NaN     NaN   \n",
      "1240                                                NaN      NaN     NaN   \n",
      "\n",
      "      ストアカテゴリ  第2ストアカテゴリ  テンプレート  \\\n",
      "0         NaN        NaN     NaN   \n",
      "1         NaN        NaN     NaN   \n",
      "2         NaN        NaN     NaN   \n",
      "3         NaN        NaN     NaN   \n",
      "4         NaN        NaN     NaN   \n",
      "...       ...        ...     ...   \n",
      "1236      NaN        NaN     NaN   \n",
      "1237      NaN        NaN     NaN   \n",
      "1238      NaN        NaN     NaN   \n",
      "1239      NaN        NaN     NaN   \n",
      "1240      NaN        NaN     NaN   \n",
      "\n",
      "                                                   商品説明  ...  UPC  ISBN  \\\n",
      "0     <div class=\"main1\" style=\"\"><h1 style=\"text-al...  ...  NaN   NaN   \n",
      "1     <div class=\"main1\" style=\"\"><h1 style=\"text-al...  ...  NaN   NaN   \n",
      "2     <div class=\"main1\" style=\"\"><h1 style=\"text-al...  ...  NaN   NaN   \n",
      "3     <div class=\"main1\" style=\"\"><h1 style=\"text-al...  ...  NaN   NaN   \n",
      "4     <div class=\"main1\" style=\"\"><h1 style=\"text-al...  ...  NaN   NaN   \n",
      "...                                                 ...  ...  ...   ...   \n",
      "1236  <div class=\"main1\" style=\"\"><h1 style=\"text-al...  ...  NaN   NaN   \n",
      "1237                                                NaN  ...  NaN   NaN   \n",
      "1238                                                NaN  ...  NaN   NaN   \n",
      "1239                                                NaN  ...  NaN   NaN   \n",
      "1240                                                NaN  ...  NaN   NaN   \n",
      "\n",
      "      Brand MPN EAN 荷物の幅  荷物の奥行き 荷物の長さ 荷物の重量 適合車種  \n",
      "0       NaN NaN NaN  NaN     NaN   NaN   NaN  NaN  \n",
      "1       NaN NaN NaN  NaN     NaN   NaN   NaN  NaN  \n",
      "2       NaN NaN NaN  NaN     NaN   NaN   NaN  NaN  \n",
      "3       NaN NaN NaN  NaN     NaN   NaN   NaN  NaN  \n",
      "4       NaN NaN NaN  NaN     NaN   NaN   NaN  NaN  \n",
      "...     ...  ..  ..  ...     ...   ...   ...  ...  \n",
      "1236    NaN NaN NaN  NaN     NaN   NaN   NaN  NaN  \n",
      "1237    NaN NaN NaN  NaN     NaN   NaN   NaN  NaN  \n",
      "1238    NaN NaN NaN  NaN     NaN   NaN   NaN  NaN  \n",
      "1239    NaN NaN NaN  NaN     NaN   NaN   NaN  NaN  \n",
      "1240    NaN NaN NaN  NaN     NaN   NaN   NaN  NaN  \n",
      "\n",
      "[1241 rows x 53 columns]\n"
     ]
    }
   ],
   "source": [
    "df = pd.read_excel(at, sheet_name='清書_詳細', index=None, skiprows=range(1, 10)) #encoding=\"SHIFT-JIS\") # encoding='cp932' 文字化けする\n",
    "print(df)\n",
    "syp_csv = r'syuppin_ebay%s.csv'\n",
    "    # Syuppinディレごと、出品ディレ下に置きたい。FixもCancelディレも同じ用に。\n",
    "    # だが、それ設定するとエラー起きる。Shutil.moveするか\n",
    "i = 0\n",
    "    # renbanName = csv_auc % i\n",
    "while os.path.exists(syp_csv % i):\n",
    "\ti += 1\n",
    "        #df.to_csv(csv_auc % i, index=False, encoding=\"SHIFT-JIS\") #encoding = 'shift_jis'\n",
    "        # cp932つまりは、shift-jisで、割り当てられてない文字を書き出そうとしたときに発生するエラー。起きがちなのは上で例に上げている\"\\xa0\"や\"\\3000\"などでよくエラーを出す\n",
    "        # 上記エラーを防ぐため、一度ファイルオブジェクトをエラー無視、書き込みで開く\n",
    "with open(syp_csv % i, mode=\"w\", newline=\"\", encoding=\"utf-8_sig\") as f:# encoding='cp1252' errors=\"ignore\",  デフォルトがencoding=\"cp932\"\n",
    "    df.to_csv(f)"
   ]
  },
  {
   "cell_type": "code",
   "execution_count": 20,
   "metadata": {},
   "outputs": [],
   "source": [
    "## ループごとに、求めたLastRowを足していき、それをskipRows=range(1, X)に入れる\n"
   ]
  },
  {
   "cell_type": "code",
   "execution_count": null,
   "metadata": {},
   "outputs": [],
   "source": [
    "df = pd.read_excel(at, sheet_name='清書_詳細', index=None, skiprows=range(1, 10)) #encoding=\"SHIFT-JIS\") # encoding='cp932' 文字化けする\n",
    "print(df)\n",
    "syp_csv = r'syuppin_ebay%s.csv'\n",
    "    # Syuppinディレごと、出品ディレ下に置きたい。FixもCancelディレも同じ用に。\n",
    "    # だが、それ設定するとエラー起きる。Shutil.moveするか\n",
    "i = 0\n",
    "    # renbanName = csv_auc % i\n",
    "while os.path.exists(syp_csv % i):\n",
    "\ti += 1\n",
    "        #df.to_csv(csv_auc % i, index=False, encoding=\"SHIFT-JIS\") #encoding = 'shift_jis'\n",
    "        # cp932つまりは、shift-jisで、割り当てられてない文字を書き出そうとしたときに発生するエラー。起きがちなのは上で例に上げている\"\\xa0\"や\"\\3000\"などでよくエラーを出す\n",
    "        # 上記エラーを防ぐため、一度ファイルオブジェクトをエラー無視、書き込みで開く\n",
    "with open(syp_csv % i, mode=\"w\", newline=\"\", encoding=\"utf-8_sig\") as f:# encoding='cp1252' errors=\"ignore\",  デフォルトがencoding=\"cp932\"\n",
    "    df.to_csv(f)"
   ]
  },
  {
   "cell_type": "code",
   "execution_count": 21,
   "metadata": {
    "collapsed": true,
    "jupyter": {
     "outputs_hidden": true
    }
   },
   "outputs": [
    {
     "name": "stdout",
     "output_type": "stream",
     "text": [
      "     サイトID  アイテムID                                                SKU  \\\n",
      "0       US     NaN  918667a3-2570-4f81-9647-270fbd81e252-l58525706...   \n",
      "1       US     NaN  6c680fe8-5693-4ea7-a114-0495ec7466b5-g40828838...   \n",
      "2       US     NaN  346ff8a3-1273-45bf-9624-6594713a8f51-h45720462...   \n",
      "3       US     NaN  77bedb58-2b2f-4b61-86c2-a9829804e9a4-m39407061...   \n",
      "4       US     NaN  a1bb5ff0-7330-49d4-9631-8650d7111c96-456998833...   \n",
      "...    ...     ...                                                ...   \n",
      "1245   NaN     NaN                                                NaN   \n",
      "1246   NaN     NaN                                                NaN   \n",
      "1247   NaN     NaN                                                NaN   \n",
      "1248   NaN     NaN                                                NaN   \n",
      "1249   NaN     NaN                                                NaN   \n",
      "\n",
      "                                                   タイトル     カテゴリ  サブカテゴリ  \\\n",
      "0     Figure THE BRUSH Ⅱ Award Super Saiyan Gogeta A...  13666.0     NaN   \n",
      "1     Figure Last One Award Super Saiyan Broly Full ...  13666.0     NaN   \n",
      "2     BANDAI BANDAI Ichiban Kuji Dragon Ball ULTIMAT...  13666.0     NaN   \n",
      "3     Blister not opened figure last one prize Super...  13666.0     NaN   \n",
      "4     Prize A Son Goku (Selfishness) Figure Ichiban ...  13666.0     NaN   \n",
      "...                                                 ...      ...     ...   \n",
      "1245                                                  0  13666.0     NaN   \n",
      "1246                                                NaN      NaN     NaN   \n",
      "1247                                                NaN      NaN     NaN   \n",
      "1248                                                NaN      NaN     NaN   \n",
      "1249                                                NaN      NaN     NaN   \n",
      "\n",
      "      ストアカテゴリ  第2ストアカテゴリ  テンプレート  \\\n",
      "0         NaN        NaN     NaN   \n",
      "1         NaN        NaN     NaN   \n",
      "2         NaN        NaN     NaN   \n",
      "3         NaN        NaN     NaN   \n",
      "4         NaN        NaN     NaN   \n",
      "...       ...        ...     ...   \n",
      "1245      NaN        NaN     NaN   \n",
      "1246      NaN        NaN     NaN   \n",
      "1247      NaN        NaN     NaN   \n",
      "1248      NaN        NaN     NaN   \n",
      "1249      NaN        NaN     NaN   \n",
      "\n",
      "                                                   商品説明  ...  UPC  ISBN  \\\n",
      "0     <div class=\"main1\" style=\"\"><h1 style=\"text-al...  ...  NaN   NaN   \n",
      "1     <div class=\"main1\" style=\"\"><h1 style=\"text-al...  ...  NaN   NaN   \n",
      "2     <div class=\"main1\" style=\"\"><h1 style=\"text-al...  ...  NaN   NaN   \n",
      "3     <div class=\"main1\" style=\"\"><h1 style=\"text-al...  ...  NaN   NaN   \n",
      "4     <div class=\"main1\" style=\"\"><h1 style=\"text-al...  ...  NaN   NaN   \n",
      "...                                                 ...  ...  ...   ...   \n",
      "1245  <div class=\"main1\" style=\"\"><h1 style=\"text-al...  ...  NaN   NaN   \n",
      "1246                                                NaN  ...  NaN   NaN   \n",
      "1247                                                NaN  ...  NaN   NaN   \n",
      "1248                                                NaN  ...  NaN   NaN   \n",
      "1249                                                NaN  ...  NaN   NaN   \n",
      "\n",
      "      Brand MPN EAN 荷物の幅  荷物の奥行き 荷物の長さ 荷物の重量 適合車種  \n",
      "0       NaN NaN NaN  NaN     NaN   NaN   NaN  NaN  \n",
      "1       NaN NaN NaN  NaN     NaN   NaN   NaN  NaN  \n",
      "2       NaN NaN NaN  NaN     NaN   NaN   NaN  NaN  \n",
      "3       NaN NaN NaN  NaN     NaN   NaN   NaN  NaN  \n",
      "4       NaN NaN NaN  NaN     NaN   NaN   NaN  NaN  \n",
      "...     ...  ..  ..  ...     ...   ...   ...  ...  \n",
      "1245    NaN NaN NaN  NaN     NaN   NaN   NaN  NaN  \n",
      "1246    NaN NaN NaN  NaN     NaN   NaN   NaN  NaN  \n",
      "1247    NaN NaN NaN  NaN     NaN   NaN   NaN  NaN  \n",
      "1248    NaN NaN NaN  NaN     NaN   NaN   NaN  NaN  \n",
      "1249    NaN NaN NaN  NaN     NaN   NaN   NaN  NaN  \n",
      "\n",
      "[1250 rows x 53 columns]\n"
     ]
    }
   ],
   "source": [
    "x = 0\n",
    "df = pd.read_excel(at, sheet_name='清書_詳細', index=None, skiprows=range(1, x)) #encoding=\"SHIFT-JIS\") # encoding='cp932' 文字化けする\n",
    "print(df)\n",
    "syp_csv = r'syuppin_ebay%s.csv'\n",
    "    # Syuppinディレごと、出品ディレ下に置きたい。FixもCancelディレも同じ用に。\n",
    "    # だが、それ設定するとエラー起きる。Shutil.moveするか\n",
    "i = 0\n",
    "    # renbanName = csv_auc % i\n",
    "while os.path.exists(syp_csv % i):\n",
    "\ti += 1\n",
    "        #df.to_csv(csv_auc % i, index=False, encoding=\"SHIFT-JIS\") #encoding = 'shift_jis'\n",
    "        # cp932つまりは、shift-jisで、割り当てられてない文字を書き出そうとしたときに発生するエラー。起きがちなのは上で例に上げている\"\\xa0\"や\"\\3000\"などでよくエラーを出す\n",
    "        # 上記エラーを防ぐため、一度ファイルオブジェクトをエラー無視、書き込みで開く\n",
    "with open(syp_csv % i, mode=\"w\", newline=\"\", encoding=\"utf-8_sig\") as f:# encoding='cp1252' errors=\"ignore\",  デフォルトがencoding=\"cp932\"\n",
    "    df.to_csv(f)"
   ]
  },
  {
   "cell_type": "code",
   "execution_count": null,
   "metadata": {},
   "outputs": [],
   "source": [
    "## もしdownloadディレの最新ファイルが３分以内だったら、DownFile()実行"
   ]
  },
  {
   "cell_type": "code",
   "execution_count": 23,
   "metadata": {},
   "outputs": [],
   "source": [
    "import os\n",
    "import time"
   ]
  },
  {
   "cell_type": "code",
   "execution_count": 32,
   "metadata": {},
   "outputs": [
    {
     "name": "stdout",
     "output_type": "stream",
     "text": [
      "C:\\Users\\Kazuki Yuno\\Downloads\\5702120200309_230528 (3).csv\n",
      "1583806702.859986\n",
      "1583812709.5449266\n",
      "100.11141567627588\n"
     ]
    }
   ],
   "source": [
    "lastRow_list = []\n",
    "# category_list[i]\n",
    "# i += 1\n",
    "dirname = r\"C:\\Users\\Kazuki Yuno\\Downloads\"\n",
    "# 指定ディレ内の最新ファイルのパスを取得\n",
    "p = Path(dirname)\n",
    "files = list(p.glob(\"*\"))\n",
    "file_updates = {file_path: os.stat(file_path).st_mtime for file_path in files}\n",
    "newest_fPath = max(file_updates, key=file_updates.get)\n",
    "print(newest_fPath)\n",
    "\n",
    "# 前回時刻(ファイルのタイムスタンプ取得)\n",
    "previous = os.path.getmtime(newest_fPath)\n",
    "print(previous)\n",
    "# 現時刻\n",
    "current = time.time()\n",
    "print(current)\n",
    "# 現時刻 - 前回時刻を比較\n",
    "print((current - previous)/60) # 割る60で分単位に。下記は100分の差\n"
   ]
  },
  {
   "cell_type": "code",
   "execution_count": null,
   "metadata": {},
   "outputs": [],
   "source": [
    "## "
   ]
  },
  {
   "cell_type": "code",
   "execution_count": 28,
   "metadata": {},
   "outputs": [
    {
     "ename": "IndentationError",
     "evalue": "unindent does not match any outer indentation level (<tokenize>, line 13)",
     "output_type": "error",
     "traceback": [
      "\u001b[1;36m  File \u001b[1;32m\"<tokenize>\"\u001b[1;36m, line \u001b[1;32m13\u001b[0m\n\u001b[1;33m    else: # 3分経過していたら、これまで通り何もSkipしない（先頭のCaoileの場合のみ\u001b[0m\n\u001b[1;37m    ^\u001b[0m\n\u001b[1;31mIndentationError\u001b[0m\u001b[1;31m:\u001b[0m unindent does not match any outer indentation level\n"
     ]
    }
   ],
   "source": [
    "\tif (current - previous) < 3 * 60:  # もし３分以内にダウンロードされたファイルが有れば実行。。\n",
    "        app = xw.App(visible=False)\n",
    "        wb = app.books.open(newest_fPath)\n",
    "        sht = wb.sheets(1)\n",
    "        lastRow = sht.range('A1').end(-4121).row  # H1にしていた  タイトル列\n",
    "        print(lastRow)\n",
    "       \n",
    "        df = pd.read_excel(atk, sheet_name='清書_詳細', index=None,\n",
    "                           skiprows=range(1, sum(lastRow_list)))\n",
    "        print(sum(lastRow_list))\n",
    "        print(df)\n",
    "        \n",
    "    else: # 3分経過していたら、これまで通り何もSkipしない（先頭のCaoileの場合のみ\n",
    "        df = pd.read_excel(atk, sheet_name='清書_詳細', index=None)\n",
    "\t\tprint(df)"
   ]
  },
  {
   "cell_type": "code",
   "execution_count": null,
   "metadata": {},
   "outputs": [],
   "source": []
  },
  {
   "cell_type": "markdown",
   "metadata": {},
   "source": [
    "## アルファベット＝EXCELの列をループ、"
   ]
  },
  {
   "cell_type": "code",
   "execution_count": null,
   "metadata": {},
   "outputs": [],
   "source": []
  },
  {
   "cell_type": "code",
   "execution_count": 1,
   "metadata": {
    "collapsed": true,
    "jupyter": {
     "outputs_hidden": true
    }
   },
   "outputs": [
    {
     "name": "stdout",
     "output_type": "stream",
     "text": [
      "a\n",
      "b\n",
      "c\n",
      "d\n",
      "e\n",
      "f\n",
      "g\n",
      "h\n",
      "i\n",
      "j\n",
      "k\n",
      "l\n",
      "m\n",
      "n\n",
      "o\n",
      "p\n",
      "q\n",
      "r\n",
      "s\n",
      "t\n",
      "u\n",
      "v\n",
      "w\n",
      "x\n",
      "y\n",
      "z\n",
      "aa\n",
      "ab\n",
      "ac\n",
      "ad\n",
      "ae\n",
      "af\n",
      "ag\n",
      "ah\n",
      "ai\n",
      "aj\n",
      "ak\n",
      "al\n",
      "am\n",
      "an\n",
      "ao\n",
      "ap\n",
      "aq\n",
      "ar\n",
      "as\n",
      "at\n",
      "au\n",
      "av\n",
      "aw\n",
      "ax\n",
      "ay\n",
      "az\n",
      "ba\n",
      "bb\n"
     ]
    }
   ],
   "source": [
    "from string import ascii_lowercase\n",
    "import itertools\n",
    "\n",
    "def iter_all_strings():\n",
    "    for size in itertools.count(1):\n",
    "        for s in itertools.product(ascii_lowercase, repeat=size):\n",
    "            yield \"\".join(s)\n",
    "\n",
    "for s in iter_all_strings():\n",
    "    print(s)\n",
    "    if s == 'bb':\n",
    "        break"
   ]
  },
  {
   "cell_type": "code",
   "execution_count": 2,
   "metadata": {
    "collapsed": true,
    "jupyter": {
     "outputs_hidden": true
    }
   },
   "outputs": [
    {
     "name": "stdout",
     "output_type": "stream",
     "text": [
      "a\n",
      "b\n",
      "c\n",
      "d\n",
      "e\n",
      "f\n",
      "g\n",
      "h\n",
      "i\n",
      "j\n",
      "k\n",
      "l\n",
      "m\n",
      "n\n",
      "o\n",
      "p\n",
      "q\n",
      "r\n",
      "s\n",
      "t\n",
      "u\n",
      "v\n",
      "w\n",
      "x\n",
      "y\n",
      "z\n",
      "aa\n",
      "ab\n",
      "ac\n",
      "ad\n",
      "ae\n",
      "af\n",
      "ag\n",
      "ah\n"
     ]
    }
   ],
   "source": [
    "def iter_all_strings(): # https://stackoverflow.com/questions/29351492/how-to-make-a-continuous-alphabetic-list-python-from-a-z-then-from-aa-ab-ac-e\n",
    "    for size in itertools.count(1):\n",
    "        for s in itertools.product(ascii_lowercase, repeat=size):\n",
    "            yield \"\".join(s)\n",
    "for col in iter_all_strings():\n",
    "\tprint(col)\n",
    "        # sht2.range('{}2:{}3'.format(col, col)).api.AutoFill(\n",
    "        #     sht2.range(\"{}3:{}{}\".format(col, col, lastRow1)).api, AutoFillType.xlFillDefault)\n",
    "\tif col == 'ah':\n",
    "\t\tbreak"
   ]
  },
  {
   "cell_type": "code",
   "execution_count": 42,
   "metadata": {},
   "outputs": [],
   "source": [
    "import xlwings as xw\n",
    "import win32com as win32\n",
    "from pathlib import Path\n",
    "import os\n",
    "from xlwings.constants import AutoFillType"
   ]
  },
  {
   "cell_type": "code",
   "execution_count": 43,
   "metadata": {},
   "outputs": [],
   "source": [
    "\n",
    "\n",
    "app = xw.App(visible=True)\n",
    "atk = r\"C:/Users/Kazuki Yuno/Desktop/00.Myself/04.Buyer/1.利益計算/AtackList_Buyer43.xlsx\"\n",
    "wb = app.books.open(atk)\n",
    "    # オートフィル # 入力用シートのA列の最下行を取得、その数字を清書のRangeに代入\n",
    "sht1 = wb.sheets[1]  # (1)にしていたが\n",
    "sht2 = wb.sheets[2]\n"
   ]
  },
  {
   "cell_type": "code",
   "execution_count": 44,
   "metadata": {},
   "outputs": [
    {
     "name": "stdout",
     "output_type": "stream",
     "text": [
      "96\n",
      "<Sheet [AtackList_Buyer43.xlsx]入力用>\n"
     ]
    }
   ],
   "source": [
    "lastRow1 = sht1.range('A4').end(-4121).row  # MonsterBall CS\n",
    "print(lastRow1)\n",
    "print(sht1)"
   ]
  },
  {
   "cell_type": "code",
   "execution_count": 34,
   "metadata": {},
   "outputs": [
    {
     "name": "stdout",
     "output_type": "stream",
     "text": [
      "a\n"
     ]
    },
    {
     "ename": "com_error",
     "evalue": "(-2147352567, '例外が発生しました。', (0, 'Microsoft Excel', 'Range クラスの AutoFill メソッドが失敗しました。', 'xlmain11.chm', 0, -2146827284), None)",
     "output_type": "error",
     "traceback": [
      "\u001b[1;31m---------------------------------------------------------------------------\u001b[0m",
      "\u001b[1;31mcom_error\u001b[0m                                 Traceback (most recent call last)",
      "\u001b[1;32m<ipython-input-34-ca9ca3f14051>\u001b[0m in \u001b[0;36m<module>\u001b[1;34m\u001b[0m\n\u001b[0;32m      6\u001b[0m         \u001b[0mprint\u001b[0m\u001b[1;33m(\u001b[0m\u001b[0mcol\u001b[0m\u001b[1;33m)\u001b[0m\u001b[1;33m\u001b[0m\u001b[1;33m\u001b[0m\u001b[0m\n\u001b[0;32m      7\u001b[0m \tsht2.range('{}2:{}3'.format(col, col)).api.AutoFill(\n\u001b[1;32m----> 8\u001b[1;33m         sht2.range(\"{}3:{}{}\".format(col, col, lastRow1)).api, AutoFillType.xlFillDefault)\n\u001b[0m\u001b[0;32m      9\u001b[0m         \u001b[1;32mif\u001b[0m \u001b[0mcol\u001b[0m \u001b[1;33m==\u001b[0m \u001b[1;34m'ah'\u001b[0m\u001b[1;33m:\u001b[0m\u001b[1;31m# 小文字にすること\u001b[0m\u001b[1;33m\u001b[0m\u001b[1;33m\u001b[0m\u001b[0m\n\u001b[0;32m     10\u001b[0m                 \u001b[1;32mbreak\u001b[0m\u001b[1;33m\u001b[0m\u001b[1;33m\u001b[0m\u001b[0m\n",
      "\u001b[1;32m~\\Anaconda3\\envs\\scraping\\lib\\site-packages\\xlwings\\_xlwindows.py\u001b[0m in \u001b[0;36m__call__\u001b[1;34m(self, *args, **kwargs)\u001b[0m\n\u001b[0;32m     61\u001b[0m         \u001b[1;32mwhile\u001b[0m \u001b[1;32mTrue\u001b[0m\u001b[1;33m:\u001b[0m\u001b[1;33m\u001b[0m\u001b[1;33m\u001b[0m\u001b[0m\n\u001b[0;32m     62\u001b[0m             \u001b[1;32mtry\u001b[0m\u001b[1;33m:\u001b[0m\u001b[1;33m\u001b[0m\u001b[1;33m\u001b[0m\u001b[0m\n\u001b[1;32m---> 63\u001b[1;33m                 \u001b[0mv\u001b[0m \u001b[1;33m=\u001b[0m \u001b[0mself\u001b[0m\u001b[1;33m.\u001b[0m\u001b[0m__method\u001b[0m\u001b[1;33m(\u001b[0m\u001b[1;33m*\u001b[0m\u001b[0margs\u001b[0m\u001b[1;33m,\u001b[0m \u001b[1;33m**\u001b[0m\u001b[0mkwargs\u001b[0m\u001b[1;33m)\u001b[0m\u001b[1;33m\u001b[0m\u001b[1;33m\u001b[0m\u001b[0m\n\u001b[0m\u001b[0;32m     64\u001b[0m                 \u001b[0mt\u001b[0m \u001b[1;33m=\u001b[0m \u001b[0mtype\u001b[0m\u001b[1;33m(\u001b[0m\u001b[0mv\u001b[0m\u001b[1;33m)\u001b[0m\u001b[1;33m\u001b[0m\u001b[1;33m\u001b[0m\u001b[0m\n\u001b[0;32m     65\u001b[0m                 \u001b[1;32mif\u001b[0m \u001b[0mt\u001b[0m \u001b[1;32mis\u001b[0m \u001b[0mCDispatch\u001b[0m\u001b[1;33m:\u001b[0m\u001b[1;33m\u001b[0m\u001b[1;33m\u001b[0m\u001b[0m\n",
      "\u001b[1;32m~\\Anaconda3\\envs\\scraping\\lib\\site-packages\\win32com\\client\\dynamic.py\u001b[0m in \u001b[0;36mAutoFill\u001b[1;34m(self, Destination, Type)\u001b[0m\n",
      "\u001b[1;32m~\\Anaconda3\\envs\\scraping\\lib\\site-packages\\win32com\\client\\dynamic.py\u001b[0m in \u001b[0;36m_ApplyTypes_\u001b[1;34m(self, dispid, wFlags, retType, argTypes, user, resultCLSID, *args)\u001b[0m\n\u001b[0;32m    285\u001b[0m \u001b[1;33m\u001b[0m\u001b[0m\n\u001b[0;32m    286\u001b[0m         \u001b[1;32mdef\u001b[0m \u001b[0m_ApplyTypes_\u001b[0m\u001b[1;33m(\u001b[0m\u001b[0mself\u001b[0m\u001b[1;33m,\u001b[0m \u001b[0mdispid\u001b[0m\u001b[1;33m,\u001b[0m \u001b[0mwFlags\u001b[0m\u001b[1;33m,\u001b[0m \u001b[0mretType\u001b[0m\u001b[1;33m,\u001b[0m \u001b[0margTypes\u001b[0m\u001b[1;33m,\u001b[0m \u001b[0muser\u001b[0m\u001b[1;33m,\u001b[0m \u001b[0mresultCLSID\u001b[0m\u001b[1;33m,\u001b[0m \u001b[1;33m*\u001b[0m\u001b[0margs\u001b[0m\u001b[1;33m)\u001b[0m\u001b[1;33m:\u001b[0m\u001b[1;33m\u001b[0m\u001b[1;33m\u001b[0m\u001b[0m\n\u001b[1;32m--> 287\u001b[1;33m                 \u001b[0mresult\u001b[0m \u001b[1;33m=\u001b[0m \u001b[0mself\u001b[0m\u001b[1;33m.\u001b[0m\u001b[0m_oleobj_\u001b[0m\u001b[1;33m.\u001b[0m\u001b[0mInvokeTypes\u001b[0m\u001b[1;33m(\u001b[0m\u001b[1;33m*\u001b[0m\u001b[1;33m(\u001b[0m\u001b[0mdispid\u001b[0m\u001b[1;33m,\u001b[0m \u001b[0mLCID\u001b[0m\u001b[1;33m,\u001b[0m \u001b[0mwFlags\u001b[0m\u001b[1;33m,\u001b[0m \u001b[0mretType\u001b[0m\u001b[1;33m,\u001b[0m \u001b[0margTypes\u001b[0m\u001b[1;33m)\u001b[0m \u001b[1;33m+\u001b[0m \u001b[0margs\u001b[0m\u001b[1;33m)\u001b[0m\u001b[1;33m\u001b[0m\u001b[1;33m\u001b[0m\u001b[0m\n\u001b[0m\u001b[0;32m    288\u001b[0m                 \u001b[1;32mreturn\u001b[0m \u001b[0mself\u001b[0m\u001b[1;33m.\u001b[0m\u001b[0m_get_good_object_\u001b[0m\u001b[1;33m(\u001b[0m\u001b[0mresult\u001b[0m\u001b[1;33m,\u001b[0m \u001b[0muser\u001b[0m\u001b[1;33m,\u001b[0m \u001b[0mresultCLSID\u001b[0m\u001b[1;33m)\u001b[0m\u001b[1;33m\u001b[0m\u001b[1;33m\u001b[0m\u001b[0m\n\u001b[0;32m    289\u001b[0m \u001b[1;33m\u001b[0m\u001b[0m\n",
      "\u001b[1;31mcom_error\u001b[0m: (-2147352567, '例外が発生しました。', (0, 'Microsoft Excel', 'Range クラスの AutoFill メソッドが失敗しました。', 'xlmain11.chm', 0, -2146827284), None)"
     ]
    }
   ],
   "source": [
    "def iter_all_strings(): # https://stackoverflow.com/questions/29351492/how-to-make-a-continuous-alphabetic-list-python-from-a-z-then-from-aa-ab-ac-e\n",
    "\tfor size in itertools.count(1):\n",
    "\t\tfor s in itertools.product(ascii_lowercase, repeat=size):\n",
    "\t\t\tyield \"\".join(s)\n",
    "for col in iter_all_strings():\n",
    "\tprint(col)\n",
    "\tsht2.range('{}2:{}3'.format(col, col)).api.AutoFill(\n",
    "        sht2.range(\"{}3:{}{}\".format(col, col, lastRow1)).api, AutoFillType.xlFillDefault)\n",
    "\tif col == 'ah':# 小文字にすること\n",
    "\t\tbreak\n"
   ]
  },
  {
   "cell_type": "code",
   "execution_count": 35,
   "metadata": {},
   "outputs": [
    {
     "ename": "com_error",
     "evalue": "(-2147352567, '例外が発生しました。', (0, 'Microsoft Excel', 'Range クラスの AutoFill メソッドが失敗しました。', 'xlmain11.chm', 0, -2146827284), None)",
     "output_type": "error",
     "traceback": [
      "\u001b[1;31m---------------------------------------------------------------------------\u001b[0m",
      "\u001b[1;31mcom_error\u001b[0m                                 Traceback (most recent call last)",
      "\u001b[1;32m<ipython-input-35-78881403c5a3>\u001b[0m in \u001b[0;36m<module>\u001b[1;34m\u001b[0m\n\u001b[0;32m      1\u001b[0m sht2.range('{}2:{}3'.format(col, col)).api.AutoFill(\n\u001b[1;32m----> 2\u001b[1;33m     sht2.range(\"{}3:{}{}\".format(col, col, lastRow1)).api, AutoFillType.xlFillDefault)\n\u001b[0m",
      "\u001b[1;32m~\\Anaconda3\\envs\\scraping\\lib\\site-packages\\xlwings\\_xlwindows.py\u001b[0m in \u001b[0;36m__call__\u001b[1;34m(self, *args, **kwargs)\u001b[0m\n\u001b[0;32m     61\u001b[0m         \u001b[1;32mwhile\u001b[0m \u001b[1;32mTrue\u001b[0m\u001b[1;33m:\u001b[0m\u001b[1;33m\u001b[0m\u001b[1;33m\u001b[0m\u001b[0m\n\u001b[0;32m     62\u001b[0m             \u001b[1;32mtry\u001b[0m\u001b[1;33m:\u001b[0m\u001b[1;33m\u001b[0m\u001b[1;33m\u001b[0m\u001b[0m\n\u001b[1;32m---> 63\u001b[1;33m                 \u001b[0mv\u001b[0m \u001b[1;33m=\u001b[0m \u001b[0mself\u001b[0m\u001b[1;33m.\u001b[0m\u001b[0m__method\u001b[0m\u001b[1;33m(\u001b[0m\u001b[1;33m*\u001b[0m\u001b[0margs\u001b[0m\u001b[1;33m,\u001b[0m \u001b[1;33m**\u001b[0m\u001b[0mkwargs\u001b[0m\u001b[1;33m)\u001b[0m\u001b[1;33m\u001b[0m\u001b[1;33m\u001b[0m\u001b[0m\n\u001b[0m\u001b[0;32m     64\u001b[0m                 \u001b[0mt\u001b[0m \u001b[1;33m=\u001b[0m \u001b[0mtype\u001b[0m\u001b[1;33m(\u001b[0m\u001b[0mv\u001b[0m\u001b[1;33m)\u001b[0m\u001b[1;33m\u001b[0m\u001b[1;33m\u001b[0m\u001b[0m\n\u001b[0;32m     65\u001b[0m                 \u001b[1;32mif\u001b[0m \u001b[0mt\u001b[0m \u001b[1;32mis\u001b[0m \u001b[0mCDispatch\u001b[0m\u001b[1;33m:\u001b[0m\u001b[1;33m\u001b[0m\u001b[1;33m\u001b[0m\u001b[0m\n",
      "\u001b[1;32m~\\Anaconda3\\envs\\scraping\\lib\\site-packages\\win32com\\client\\dynamic.py\u001b[0m in \u001b[0;36mAutoFill\u001b[1;34m(self, Destination, Type)\u001b[0m\n",
      "\u001b[1;32m~\\Anaconda3\\envs\\scraping\\lib\\site-packages\\win32com\\client\\dynamic.py\u001b[0m in \u001b[0;36m_ApplyTypes_\u001b[1;34m(self, dispid, wFlags, retType, argTypes, user, resultCLSID, *args)\u001b[0m\n\u001b[0;32m    285\u001b[0m \u001b[1;33m\u001b[0m\u001b[0m\n\u001b[0;32m    286\u001b[0m         \u001b[1;32mdef\u001b[0m \u001b[0m_ApplyTypes_\u001b[0m\u001b[1;33m(\u001b[0m\u001b[0mself\u001b[0m\u001b[1;33m,\u001b[0m \u001b[0mdispid\u001b[0m\u001b[1;33m,\u001b[0m \u001b[0mwFlags\u001b[0m\u001b[1;33m,\u001b[0m \u001b[0mretType\u001b[0m\u001b[1;33m,\u001b[0m \u001b[0margTypes\u001b[0m\u001b[1;33m,\u001b[0m \u001b[0muser\u001b[0m\u001b[1;33m,\u001b[0m \u001b[0mresultCLSID\u001b[0m\u001b[1;33m,\u001b[0m \u001b[1;33m*\u001b[0m\u001b[0margs\u001b[0m\u001b[1;33m)\u001b[0m\u001b[1;33m:\u001b[0m\u001b[1;33m\u001b[0m\u001b[1;33m\u001b[0m\u001b[0m\n\u001b[1;32m--> 287\u001b[1;33m                 \u001b[0mresult\u001b[0m \u001b[1;33m=\u001b[0m \u001b[0mself\u001b[0m\u001b[1;33m.\u001b[0m\u001b[0m_oleobj_\u001b[0m\u001b[1;33m.\u001b[0m\u001b[0mInvokeTypes\u001b[0m\u001b[1;33m(\u001b[0m\u001b[1;33m*\u001b[0m\u001b[1;33m(\u001b[0m\u001b[0mdispid\u001b[0m\u001b[1;33m,\u001b[0m \u001b[0mLCID\u001b[0m\u001b[1;33m,\u001b[0m \u001b[0mwFlags\u001b[0m\u001b[1;33m,\u001b[0m \u001b[0mretType\u001b[0m\u001b[1;33m,\u001b[0m \u001b[0margTypes\u001b[0m\u001b[1;33m)\u001b[0m \u001b[1;33m+\u001b[0m \u001b[0margs\u001b[0m\u001b[1;33m)\u001b[0m\u001b[1;33m\u001b[0m\u001b[1;33m\u001b[0m\u001b[0m\n\u001b[0m\u001b[0;32m    288\u001b[0m                 \u001b[1;32mreturn\u001b[0m \u001b[0mself\u001b[0m\u001b[1;33m.\u001b[0m\u001b[0m_get_good_object_\u001b[0m\u001b[1;33m(\u001b[0m\u001b[0mresult\u001b[0m\u001b[1;33m,\u001b[0m \u001b[0muser\u001b[0m\u001b[1;33m,\u001b[0m \u001b[0mresultCLSID\u001b[0m\u001b[1;33m)\u001b[0m\u001b[1;33m\u001b[0m\u001b[1;33m\u001b[0m\u001b[0m\n\u001b[0;32m    289\u001b[0m \u001b[1;33m\u001b[0m\u001b[0m\n",
      "\u001b[1;31mcom_error\u001b[0m: (-2147352567, '例外が発生しました。', (0, 'Microsoft Excel', 'Range クラスの AutoFill メソッドが失敗しました。', 'xlmain11.chm', 0, -2146827284), None)"
     ]
    }
   ],
   "source": [
    "\n",
    "sht2.range('{}2:{}3'.format(col, col)).api.AutoFill(\n",
    "    sht2.range(\"{}3:{}{}\".format(col, col, lastRow1)).api, AutoFillType.xlFillDefault)"
   ]
  },
  {
   "cell_type": "code",
   "execution_count": 47,
   "metadata": {},
   "outputs": [
    {
     "name": "stdout",
     "output_type": "stream",
     "text": [
      "a\n",
      "b\n",
      "c\n",
      "d\n",
      "e\n",
      "f\n",
      "g\n",
      "h\n",
      "i\n",
      "j\n",
      "k\n",
      "l\n",
      "m\n",
      "n\n",
      "o\n",
      "p\n",
      "q\n",
      "r\n",
      "s\n",
      "t\n",
      "u\n",
      "v\n",
      "w\n",
      "x\n",
      "y\n",
      "z\n",
      "aa\n",
      "ab\n",
      "ac\n",
      "ad\n",
      "ae\n",
      "af\n",
      "ag\n",
      "ah\n"
     ]
    }
   ],
   "source": [
    "def iter_all_strings(): # https://stackoverflow.com/questions/29351492/how-to-make-a-continuous-alphabetic-list-python-from-a-z-then-from-aa-ab-ac-e\n",
    "\tfor size in itertools.count(1):\n",
    "\t\tfor s in itertools.product(ascii_lowercase, repeat=size):\n",
    "\t\t\tyield \"\".join(s)\n",
    "for col in iter_all_strings():\n",
    "\tprint(col)\n",
    "\tsht2.range('{}2'.format(col)).api.AutoFill(\n",
    "    \tsht2.range(\"{}2:{}{}\".format(col, col, lastRow1)).api, AutoFillType.xlFillDefault)\n",
    "\tif col == 'ah':# 小文字にすること\n",
    "\t\tbreak\n"
   ]
  },
  {
   "cell_type": "markdown",
   "metadata": {},
   "source": [
    "## ('A2')>('A2:A100')だと、支払い設定1が２，３，４，と繰り上がってしまうから、('A2:A3')>('A3:A100')というふうにしたい"
   ]
  },
  {
   "cell_type": "code",
   "execution_count": null,
   "metadata": {},
   "outputs": [],
   "source": []
  },
  {
   "cell_type": "code",
   "execution_count": null,
   "metadata": {},
   "outputs": [],
   "source": []
  },
  {
   "cell_type": "markdown",
   "metadata": {},
   "source": [
    "## 100% の要素が見えたら 終了"
   ]
  },
  {
   "cell_type": "code",
   "execution_count": 34,
   "metadata": {},
   "outputs": [
    {
     "name": "stdout",
     "output_type": "stream",
     "text": [
      "geijutsu.yuno@gmail.com\n",
      "C:\\Users\\Kazuki Yuno\\Downloads\\ebay販売管理2020_2.xlsx\n"
     ]
    },
    {
     "ename": "NameError",
     "evalue": "name 'webdriver' is not defined",
     "output_type": "error",
     "traceback": [
      "\u001b[1;31m---------------------------------------------------------------------------\u001b[0m",
      "\u001b[1;31mNameError\u001b[0m                                 Traceback (most recent call last)",
      "\u001b[1;32m<ipython-input-34-8b5421eca44e>\u001b[0m in \u001b[0;36m<module>\u001b[1;34m\u001b[0m\n\u001b[0;32m     97\u001b[0m \u001b[1;33m\u001b[0m\u001b[0m\n\u001b[0;32m     98\u001b[0m \u001b[0matk\u001b[0m \u001b[1;33m=\u001b[0m \u001b[1;34mr'C:\\Users\\Kazuki Yuno\\Desktop\\00.Myself\\04.Buyer\\1.利益計算\\AtackList_Buyer43.xlsx'\u001b[0m\u001b[1;33m\u001b[0m\u001b[1;33m\u001b[0m\u001b[0m\n\u001b[1;32m---> 99\u001b[1;33m \u001b[0mmain\u001b[0m\u001b[1;33m(\u001b[0m\u001b[0matk\u001b[0m\u001b[1;33m)\u001b[0m\u001b[1;33m\u001b[0m\u001b[1;33m\u001b[0m\u001b[0m\n\u001b[0m",
      "\u001b[1;32m<ipython-input-34-8b5421eca44e>\u001b[0m in \u001b[0;36mmain\u001b[1;34m(atk)\u001b[0m\n\u001b[0;32m     93\u001b[0m         \u001b[1;32melse\u001b[0m\u001b[1;33m:\u001b[0m \u001b[1;31m# 3分経過していたら、これまで通り Skiprow しない（先頭のCaoileの場合のみ\u001b[0m\u001b[1;33m\u001b[0m\u001b[1;33m\u001b[0m\u001b[0m\n\u001b[0;32m     94\u001b[0m             \u001b[0mdf\u001b[0m \u001b[1;33m=\u001b[0m \u001b[0mpd\u001b[0m\u001b[1;33m.\u001b[0m\u001b[0mread_excel\u001b[0m\u001b[1;33m(\u001b[0m\u001b[0matk\u001b[0m\u001b[1;33m,\u001b[0m \u001b[0msheet_name\u001b[0m\u001b[1;33m=\u001b[0m\u001b[1;34m'清書_詳細'\u001b[0m\u001b[1;33m,\u001b[0m \u001b[0mindex\u001b[0m\u001b[1;33m=\u001b[0m\u001b[1;32mNone\u001b[0m\u001b[1;33m)\u001b[0m\u001b[1;33m\u001b[0m\u001b[1;33m\u001b[0m\u001b[0m\n\u001b[1;32m---> 95\u001b[1;33m             \u001b[0msyp\u001b[0m\u001b[1;33m(\u001b[0m\u001b[0mid\u001b[0m\u001b[1;33m,\u001b[0m \u001b[0mdf\u001b[0m\u001b[1;33m)\u001b[0m\u001b[1;33m\u001b[0m\u001b[1;33m\u001b[0m\u001b[0m\n\u001b[0m\u001b[0;32m     96\u001b[0m \u001b[1;33m\u001b[0m\u001b[0m\n\u001b[0;32m     97\u001b[0m \u001b[1;33m\u001b[0m\u001b[0m\n",
      "\u001b[1;32m<ipython-input-34-8b5421eca44e>\u001b[0m in \u001b[0;36msyp\u001b[1;34m(id, df)\u001b[0m\n\u001b[0;32m     55\u001b[0m         \u001b[1;31m# pandasでファイルオブジェクトに書き込む        # utf-8-sig（BOMあり）も駄目. ｗ\u001b[0m\u001b[1;33m\u001b[0m\u001b[1;33m\u001b[0m\u001b[1;33m\u001b[0m\u001b[0m\n\u001b[0;32m     56\u001b[0m         \u001b[0mdf\u001b[0m\u001b[1;33m.\u001b[0m\u001b[0mto_csv\u001b[0m\u001b[1;33m(\u001b[0m\u001b[0mf\u001b[0m\u001b[1;33m)\u001b[0m \u001b[1;31m# , delimiter = ','\u001b[0m\u001b[1;33m\u001b[0m\u001b[1;33m\u001b[0m\u001b[0m\n\u001b[1;32m---> 57\u001b[1;33m     \u001b[0msypUp\u001b[0m\u001b[1;33m(\u001b[0m\u001b[0msyp_csv\u001b[0m \u001b[1;33m%\u001b[0m \u001b[0mi\u001b[0m\u001b[1;33m,\u001b[0m \u001b[0mid\u001b[0m\u001b[1;33m)\u001b[0m \u001b[1;31m# インデント、with と並列にならないように\u001b[0m\u001b[1;33m\u001b[0m\u001b[1;33m\u001b[0m\u001b[0m\n\u001b[0m\u001b[0;32m     58\u001b[0m \u001b[1;33m\u001b[0m\u001b[0m\n\u001b[0;32m     59\u001b[0m \u001b[1;33m\u001b[0m\u001b[0m\n",
      "\u001b[1;32m<ipython-input-34-8b5421eca44e>\u001b[0m in \u001b[0;36msypUp\u001b[1;34m(f, id)\u001b[0m\n\u001b[0;32m     17\u001b[0m     \u001b[0mwb\u001b[0m\u001b[1;33m.\u001b[0m\u001b[0msave\u001b[0m\u001b[1;33m(\u001b[0m\u001b[1;33m)\u001b[0m\u001b[1;33m\u001b[0m\u001b[1;33m\u001b[0m\u001b[0m\n\u001b[0;32m     18\u001b[0m     \u001b[0mapp\u001b[0m\u001b[1;33m.\u001b[0m\u001b[0mkill\u001b[0m\u001b[1;33m(\u001b[0m\u001b[1;33m)\u001b[0m\u001b[1;33m\u001b[0m\u001b[1;33m\u001b[0m\u001b[0m\n\u001b[1;32m---> 19\u001b[1;33m     \u001b[0mbrowser\u001b[0m \u001b[1;33m=\u001b[0m \u001b[0mwebdriver\u001b[0m\u001b[1;33m.\u001b[0m\u001b[0mChrome\u001b[0m\u001b[1;33m(\u001b[0m\u001b[1;34mr'C:\\\\Users\\\\Kazuki Yuno\\\\Desktop\\\\chromedriver_win32\\\\chromedriver.exe'\u001b[0m\u001b[1;33m)\u001b[0m  \u001b[1;31m# \\\\\u001b[0m\u001b[1;33m\u001b[0m\u001b[1;33m\u001b[0m\u001b[0m\n\u001b[0m\u001b[0;32m     20\u001b[0m     \u001b[0mbrowser\u001b[0m\u001b[1;33m.\u001b[0m\u001b[0mget\u001b[0m\u001b[1;33m(\u001b[0m\u001b[1;34m'https://global.auctown.jp/items/create/bulk'\u001b[0m\u001b[1;33m)\u001b[0m  \u001b[1;31m# 一括出品用ページ\u001b[0m\u001b[1;33m\u001b[0m\u001b[1;33m\u001b[0m\u001b[0m\n\u001b[0;32m     21\u001b[0m     \u001b[1;31m# アカウント切替時はIDとパスワード入力。てかアカ毎にブラウザ切り替えなくていいか\u001b[0m\u001b[1;33m\u001b[0m\u001b[1;33m\u001b[0m\u001b[1;33m\u001b[0m\u001b[0m\n",
      "\u001b[1;31mNameError\u001b[0m: name 'webdriver' is not defined"
     ]
    }
   ],
   "source": [
    "import os\n",
    "import pandas as pd\n",
    "import shutil\n",
    "import time\n",
    "import datetime\n",
    "import xlwings as xw\n",
    "from pathlib import Path\n",
    "\n",
    "\n",
    "def sypUp(f, id):\n",
    "    app = xw.App(visible=False)\n",
    "    wb = app.books.open(f)  # XWは、CSVを修正出来る  # (f)は一旦なし\n",
    "    sheet = wb.sheets(1)\n",
    "    sheet['F2:F500'].number_format = '0' # カテゴリ、商品数、状態の数値に、[.0]がつくのを防ぐ試み\n",
    "    sheet['L2:L500'].number_format = '0'\n",
    "    sheet['M2:M500'].number_format = '0'\n",
    "    wb.save()\n",
    "    app.kill()\n",
    "    browser = webdriver.Chrome(r'C:\\\\Users\\\\Kazuki Yuno\\\\Desktop\\\\chromedriver_win32\\\\chromedriver.exe')  # \\\\\n",
    "    browser.get('https://global.auctown.jp/items/create/bulk')  # 一括出品用ページ\n",
    "    # アカウント切替時はIDとパスワード入力。てかアカ毎にブラウザ切り替えなくていいか\n",
    "    email = browser.find_element_by_id('email')\n",
    "    email.send_keys(id)\n",
    "    passwd = browser.find_element_by_id('passwd')\n",
    "    passwd.send_keys('larc1225')\n",
    "    time.sleep(3)\n",
    "    login = browser.find_element_by_id('submit')\n",
    "    login.click()\n",
    "    time.sleep(15)\n",
    "    #f = r'C:\\Users\\Kazuki Yuno\\Desktop\\00.Myself\\04.Buyer\\2.出品\\syuppin_auc\\syuppin_ebay36.csv'\n",
    "    browser.find_element_by_id('upload_csv').send_keys(f)  # csv_auc ではない\n",
    "    time.sleep(20)\n",
    "    check = browser.find_element_by_xpath(\"//input[@type='checkbox']\") #\n",
    "    browser.execute_script(\"arguments[0].click();\", check)\n",
    "    time.sleep(5)\n",
    "    \n",
    "    # 出品ボタン\n",
    "    addItem = browser.find_element_by_id(\"add-items\")\n",
    "    # addItem = browser.find_element_by_css_selector(\"#add-items\") # Selector は# 要らない？？\n",
    "    browser.execute_script(\"arguments[0].click();\", addItem)  # コレで成功\n",
    "    \n",
    "    # time.sleep(500) # 一旦これで\n",
    "    # 100% の要素が見えたら 終了\n",
    "    element = WebDriverWait(browser, 10).until(EC.presence_of_element_located((\n",
    "        By.XPATH, '//*[@id=\"progress\"]/div[1]/span/following-sibling::span[1]')))\n",
    "    element.click()\n",
    "\n",
    "\n",
    "def syp(id, df): # AT>SYの転記、清書シートのCSV出力、Aucへ出品\n",
    "    syp_csv = r'C:\\Users\\Kazuki Yuno\\Desktop\\00.Myself\\04.Buyer\\2.出品\\syuppin_auc\\syuppin_ebay%s.csv'\n",
    "    i = 0\n",
    "    while os.path.exists(syp_csv % i):\n",
    "        i += 1\n",
    "    with open(syp_csv % i, mode=\"w\", newline=\"\", encoding=\"utf-8_sig\") as f:# encoding='cp1252' errors=\"ignore\",  デフォルトがencoding=\"cp932\"\n",
    "        # pandasでファイルオブジェクトに書き込む        # utf-8-sig（BOMあり）も駄目. ｗ\n",
    "        df.to_csv(f) # , delimiter = ','\n",
    "    sypUp(syp_csv % i, id) # インデント、with と並列にならないように\n",
    "\n",
    "    \n",
    "def main(atk):\n",
    "    id_list = ['caoilejunoh@gmail.com', 'yunome0505@gmail.com', 'yuno.nuevo.nomada@gmail.com',\n",
    "               'yunomekazuki@gmail.com', 'geijutsu.yuno@gmail.com', 'comprador.yuno@gmail.com']\n",
    "    # category_list = ['フィギア', '本']\n",
    "\n",
    "    lastRow_list = []\n",
    "    for id in id_list[4:]: #　\n",
    "        print(id)\n",
    "        # category_list[i]\n",
    "        # i += 1\n",
    "        dirname = r\"C:\\Users\\Kazuki Yuno\\Downloads\"\n",
    "        # 指定ディレ内の最新ファイルのパスを取得\n",
    "        p = Path(dirname)\n",
    "        files = list(p.glob(\"*\"))\n",
    "        file_updates = {file_path: os.stat(file_path).st_mtime for file_path in files}\n",
    "        newest_fPath = max(file_updates, key=file_updates.get)\n",
    "        print(newest_fPath)\n",
    "        previous = os.path.getmtime(newest_fPath) # 前回時刻(ファイルのタイムスタンプ取得)\n",
    "        current = time.time() # 現時刻\n",
    "        # 現時刻 - 前回時刻を比較\n",
    "        if (current - previous) < 2 * 60:  # もし2分以内にダウンロードされたファイルが有れば実行。。\n",
    "            app = xw.App(visible=False)\n",
    "            wb = app.books.open(newest_fPath)\n",
    "            sht = wb.sheets(1)\n",
    "            lastRow = sht.range('A1').end(-4121).row  # H1にしていた  タイトル列\n",
    "            print('最下行数 - ' + str(lastRow))\n",
    "            # nextRow = lastRow + 1\n",
    "            lastRow_list.append(lastRow)\n",
    "            # ダウンロードディレの最新パス、読み込み、その最下行を求め、それ - 1  # その値を、skiprowsに渡す。ただし列名は飛ばさないように。\n",
    "            df = pd.read_excel(atk, sheet_name='清書_詳細', index=None,\n",
    "                               skiprows=range(1, sum(lastRow_list)))\n",
    "            print('skipした行数 - ' + sum(lastRow_list))\n",
    "            syp(id, df)\n",
    "        else: # 3分経過していたら、これまで通り Skiprow しない（先頭のCaoileの場合のみ\n",
    "            df = pd.read_excel(atk, sheet_name='清書_詳細', index=None)\n",
    "            syp(id, df)\n",
    "\n",
    "            \n",
    "atk = r'C:\\Users\\Kazuki Yuno\\Desktop\\00.Myself\\04.Buyer\\1.利益計算\\AtackList_Buyer43.xlsx'\n",
    "main(atk)"
   ]
  },
  {
   "cell_type": "code",
   "execution_count": null,
   "metadata": {},
   "outputs": [],
   "source": []
  },
  {
   "cell_type": "code",
   "execution_count": null,
   "metadata": {},
   "outputs": [],
   "source": []
  },
  {
   "cell_type": "markdown",
   "metadata": {},
   "source": [
    "## id_list と elif でカテゴリ番号を割り当てる"
   ]
  },
  {
   "cell_type": "code",
   "execution_count": null,
   "metadata": {},
   "outputs": [],
   "source": []
  },
  {
   "cell_type": "code",
   "execution_count": 1,
   "metadata": {},
   "outputs": [
    {
     "name": "stdout",
     "output_type": "stream",
     "text": [
      "caoilejunoh@gmail.com\n",
      "13666\n",
      "yunome0505@gmail.com\n",
      "222\n",
      "yuno.nuevo.nomada@gmail.com\n",
      "0\n",
      "yunomekazuki@gmail.com\n",
      "none\n",
      "geijutsu.yuno@gmail.com\n",
      "none\n",
      "comprador.yuno@gmail.com\n",
      "none\n"
     ]
    }
   ],
   "source": [
    "id_list = ['caoilejunoh@gmail.com', 'yunome0505@gmail.com', 'yuno.nuevo.nomada@gmail.com',\n",
    "               'yunomekazuki@gmail.com', 'geijutsu.yuno@gmail.com', 'comprador.yuno@gmail.com']\n",
    "\n",
    "for id in id_list: #　\n",
    "    #print(id_list[0])\n",
    "    print(id)\n",
    "    \n",
    "    if id == id_list[0]:\n",
    "        categ = '13666'\n",
    "    elif id == id_list[1]:\n",
    "        categ = '222'\n",
    "    elif id == id_list[2]:\n",
    "        categ = '0'\n",
    "  \t\n",
    "    else:\n",
    "        categ = 'none'\n",
    "        \n",
    "    print(categ)\n",
    "\n",
    "    \n",
    "    #   df = pd.read_excel(at, sheet_name='清書_詳細', index=None)\n",
    "#    df2 = df.loc('カテゴリ', categ)"
   ]
  },
  {
   "cell_type": "markdown",
   "metadata": {},
   "source": [
    "## atkのmarketシートをループして、account ID, category, mainkeyをsyp関数にわたす "
   ]
  },
  {
   "cell_type": "code",
   "execution_count": 3,
   "metadata": {},
   "outputs": [
    {
     "name": "stdout",
     "output_type": "stream",
     "text": [
      "                              id            main key  categ num\n",
      "1        geijutsu.yuno@gmail.com      incense burner    73466.0\n",
      "2        geijutsu.yuno@gmail.com        tea ceremony    73466.0\n",
      "4           yunome0505@gmail.com     buddhist copper    73466.0\n",
      "5           yunome0505@gmail.com      buddhist altar    73466.0\n",
      "6           yunome0505@gmail.com        buddhist art    73466.0\n",
      "8         ringo.yunome@gmail.com    kanzashi hairpin    73466.0\n",
      "11       julie.junough@gmail.com        lacquer ware    73466.0\n",
      "20          yunome0505@gmail.com                bell    73466.0\n",
      "22       teruki.yunome@gmail.com           sculpture    73466.0\n",
      "23       teruki.yunome@gmail.com           sculpture    73466.0\n",
      "24       teruki.yunome@gmail.com           sculpture    73466.0\n",
      "25       teruki.yunome@gmail.com           sculpture    73466.0\n",
      "26       teruki.yunome@gmail.com           sculpture    73466.0\n",
      "28      comprador.yuno@gmail.com     painting scroll    38125.0\n",
      "29      comprador.yuno@gmail.com     painting scroll    38125.0\n",
      "30      comprador.yuno@gmail.com     painting scroll    38125.0\n",
      "31      comprador.yuno@gmail.com     painting scroll    38125.0\n",
      "34       daichi.yunome@gmail.com              prints    38126.0\n",
      "35       daichi.yunome@gmail.com              prints    38126.0\n",
      "37       daichi.yunome@gmail.com              prints    38126.0\n",
      "38       daichi.yunome@gmail.com              prints    38126.0\n",
      "39       daichi.yunome@gmail.com              prints    38126.0\n",
      "40       daichi.yunome@gmail.com              prints    38126.0\n",
      "42       daichi.yunome@gmail.com              prints    38126.0\n",
      "43          junoyuno55@gmail.com               bowls    37935.0\n",
      "44          junoyuno55@gmail.com               bowls    37935.0\n",
      "45          junoyuno55@gmail.com               bowls    37935.0\n",
      "46          junoyuno55@gmail.com               bowls    37935.0\n",
      "47          junoyuno55@gmail.com               bowls    37935.0\n",
      "48          junoyuno55@gmail.com               bowls    37935.0\n",
      "52          junoyuno55@gmail.com               bowls    37935.0\n",
      "53          junoyuno55@gmail.com               bowls    37935.0\n",
      "54          junoyuno55@gmail.com               bowls    37935.0\n",
      "69                           NaN              katana    66841.0\n",
      "70                           NaN              katana    66841.0\n",
      "71                           NaN              katana    66841.0\n",
      "112  yuno.nuevo.nomada@gmail.com  shingeki no kyojin     1345.0\n",
      "119        caoilejunoh@gmail.com         dragon ball    13666.0\n",
      "122       yunomekazuki@gmail.com              batman   158671.0\n",
      "123       yunomekazuki@gmail.com              batman   158671.0\n",
      "125       yunomekazuki@gmail.com           spiderman   158671.0\n",
      "127       yunomekazuki@gmail.com               x-men    17085.0\n",
      "128       yunomekazuki@gmail.com               x-men   158671.0\n",
      "130       yunomekazuki@gmail.com            avengers   158671.0\n",
      "131      tomoki.yunome@gmail.com           star wars    75708.0\n"
     ]
    }
   ],
   "source": [
    "atk = r\"C:/Users/Kazuki Yuno/Desktop/00.Myself/04.Buyer/1.利益計算/AtackList_Buyer43.xlsx\"\n",
    "# 検索キーは、後の間を＋にする必要があるが、これエクセルの時点でやるか、ここでやるか> planner では空白で複合キーを生成するので、変更はここで\n",
    "df = pd.read_excel(atk, 'market', skiprows=2).\\\n",
    "dropna(subset=['キーフレーズ']).loc[:, ['id', 'main key', 'categ num']]#, 'キーフレーズ']]  # キーフレーズ列のNan を消して表示\n",
    "print(df)\n"
   ]
  },
  {
   "cell_type": "code",
   "execution_count": 27,
   "metadata": {},
   "outputs": [
    {
     "name": "stdout",
     "output_type": "stream",
     "text": [
      "                                             main key  \\\n",
      "0                                            avengers   \n",
      "1                                        batmanbatman   \n",
      "2       bowlsbowlsbowlsbowlsbowlsbowlsbowlsbowlsbowls   \n",
      "3                                      buddhist altar   \n",
      "4                                        buddhist art   \n",
      "5                                     buddhist copper   \n",
      "6                                         dragon ball   \n",
      "7                                      incense burner   \n",
      "8                                  katanakatanakatana   \n",
      "9                                        lacquer ware   \n",
      "10  painting scrollpainting scrollpainting scrollp...   \n",
      "11         printsprintsprintsprintsprintsprintsprints   \n",
      "12                                 shingeki no kyojin   \n",
      "13                                          spiderman   \n",
      "14                                          star wars   \n",
      "15                                         x-menx-men   \n",
      "16                                               bell   \n",
      "17                                   kanzashi hairpin   \n",
      "18   sculpture sculpture sculpture sculpture sculp...   \n",
      "19                                       tea ceremony   \n",
      "\n",
      "                                                   id  CategNum  \n",
      "0                              yunomekazuki@gmail.com  158671.0  \n",
      "1        yunomekazuki@gmail.comyunomekazuki@gmail.com  317342.0  \n",
      "2   junoyuno55@gmail.comjunoyuno55@gmail.comjunoyu...  341415.0  \n",
      "3                                yunome0505@gmail.com   73466.0  \n",
      "4                                yunome0505@gmail.com   73466.0  \n",
      "5                                yunome0505@gmail.com   73466.0  \n",
      "6                               caoilejunoh@gmail.com   13666.0  \n",
      "7                             geijutsu.yuno@gmail.com   73466.0  \n",
      "8                                                 ???  200523.0  \n",
      "9                             julie.junough@gmail.com   73466.0  \n",
      "10  comprador.yuno@gmail.comcomprador.yuno@gmail.c...  152500.0  \n",
      "11  daichi.yunome@gmail.comdaichi.yunome@gmail.com...  266882.0  \n",
      "12                        yuno.nuevo.nomada@gmail.com    1345.0  \n",
      "13                             yunomekazuki@gmail.com  158671.0  \n",
      "14                            tomoki.yunome@gmail.com   75708.0  \n",
      "15       yunomekazuki@gmail.comyunomekazuki@gmail.com  175756.0  \n",
      "16                               yunome0505@gmail.com   73466.0  \n",
      "17                             ringo.yunome@gmail.com   73466.0  \n",
      "18  teruki.yunome@gmail.comteruki.yunome@gmail.com...  367330.0  \n",
      "19                            geijutsu.yuno@gmail.com   73466.0  \n"
     ]
    }
   ],
   "source": [
    "df = df.groupby('main key').apply(lambda x: x.sum()).drop('main key',axis=1).reset_index()\n",
    "print(df)\n",
    "# https://teratail.com/questions/109371"
   ]
  },
  {
   "cell_type": "code",
   "execution_count": 32,
   "metadata": {},
   "outputs": [
    {
     "name": "stdout",
     "output_type": "stream",
     "text": [
      "main key\n",
      "avengers                                                                             [[[yunomekazuki@gmail.com]]]\n",
      "batmanbatman                                                    [[[yunomekazuki@gmail.comyunomekazuki@gmail.co...\n",
      "bowlsbowlsbowlsbowlsbowlsbowlsbowlsbowlsbowls                   [[[junoyuno55@gmail.comjunoyuno55@gmail.comjun...\n",
      "buddhist altar                                                                         [[[yunome0505@gmail.com]]]\n",
      "buddhist art                                                                           [[[yunome0505@gmail.com]]]\n",
      "buddhist copper                                                                        [[[yunome0505@gmail.com]]]\n",
      "dragon ball                                                                           [[[caoilejunoh@gmail.com]]]\n",
      "incense burner                                                                      [[[geijutsu.yuno@gmail.com]]]\n",
      "katanakatanakatana                                                                                      [[[???]]]\n",
      "lacquer ware                                                                        [[[julie.junough@gmail.com]]]\n",
      "painting scrollpainting scrollpainting scrollpainting scroll    [[[comprador.yuno@gmail.comcomprador.yuno@gmai...\n",
      "printsprintsprintsprintsprintsprintsprints                      [[[daichi.yunome@gmail.comdaichi.yunome@gmail....\n",
      "shingeki no kyojin                                                              [[[yuno.nuevo.nomada@gmail.com]]]\n",
      "spiderman                                                                            [[[yunomekazuki@gmail.com]]]\n",
      "star wars                                                                           [[[tomoki.yunome@gmail.com]]]\n",
      "x-menx-men                                                      [[[yunomekazuki@gmail.comyunomekazuki@gmail.co...\n",
      " bell                                                                                  [[[yunome0505@gmail.com]]]\n",
      " kanzashi hairpin                                                                    [[[ringo.yunome@gmail.com]]]\n",
      " sculpture sculpture sculpture sculpture sculpture              [[[teruki.yunome@gmail.comteruki.yunome@gmail....\n",
      " tea ceremony                                                                       [[[geijutsu.yuno@gmail.com]]]\n",
      "Name: id, dtype: object\n"
     ]
    }
   ],
   "source": [
    "df = df.groupby('main key').apply(list)\n",
    "print(df)"
   ]
  },
  {
   "cell_type": "code",
   "execution_count": 37,
   "metadata": {},
   "outputs": [
    {
     "name": "stdout",
     "output_type": "stream",
     "text": [
      "                                         id  CategNum  \\\n",
      "main key                                                \n",
      " sculpture      0   teruki.yunome@gmail.com   73466.0   \n",
      "painting scroll 0  comprador.yuno@gmail.com   38125.0   \n",
      "prints          0   daichi.yunome@gmail.com   38126.0   \n",
      "bowls           0      junoyuno55@gmail.com   37935.0   \n",
      "katana          0                         ?   66841.0   \n",
      "batman          0    yunomekazuki@gmail.com  158671.0   \n",
      "x-men           0    yunomekazuki@gmail.com   17085.0   \n",
      "\n",
      "                                        id1  CategNum1  \n",
      "main key                                                \n",
      " sculpture      0   teruki.yunome@gmail.com    73466.0  \n",
      "painting scroll 0  comprador.yuno@gmail.com    38125.0  \n",
      "prints          0   daichi.yunome@gmail.com    38126.0  \n",
      "bowls           0      junoyuno55@gmail.com    37935.0  \n",
      "katana          0                         ?    66841.0  \n",
      "batman          0    yunomekazuki@gmail.com   158671.0  \n",
      "x-men           0    yunomekazuki@gmail.com   158671.0  \n"
     ]
    }
   ],
   "source": [
    "def f(a): # 単なるGroupBy, apply ではなく、関数 f を組むことで、画像URLを一列に集約するだけでなく、各列に分割までできた  # https://ja.stackoverflow.com/questions/24845/python%E3%81%AEpandas%E3%81%A7-%E7%B8%A6%E6%8C%81%E3%81%A1%E3%81%AE%E3%83%87%E3%83%BC%E3%82%BF%E3%82%92%E6%A8%AA%E6%8C%81%E3%81%A1%E3%81%AB%E3%81%99%E3%82%8B%E3%82%88%E3%81%84%E6%96%B9%E6%B3%95%E3%82%92%E6%95%99%E3%81%88%E3%81%A6%E3%81%8F%E3%81%A0%E3%81%95%E3%81%84\n",
    "    a.index = [0 for i in range(len(a))]\n",
    "    del a['main key'] # 列名指定\n",
    "    out = a[0:1]\n",
    "    for i in range(1, len(a)):\n",
    "        out = out.join(a[i:i + 1], rsuffix='{0}'.format(i))\n",
    "        return out\n",
    "grped = df.groupby(df['main key'], sort=False).apply(f)\n",
    "print(grped)"
   ]
  },
  {
   "cell_type": "code",
   "execution_count": 79,
   "metadata": {},
   "outputs": [
    {
     "name": "stdout",
     "output_type": "stream",
     "text": [
      "                              id            main key  CategNum\n",
      "1        geijutsu.yuno@gmail.com      incense burner   73466.0\n",
      "2        geijutsu.yuno@gmail.com        tea ceremony   73466.0\n",
      "4           yunome0505@gmail.com     buddhist copper   73466.0\n",
      "5           yunome0505@gmail.com      buddhist altar   73466.0\n",
      "6           yunome0505@gmail.com        buddhist art   73466.0\n",
      "8         ringo.yunome@gmail.com    kanzashi hairpin   73466.0\n",
      "11       julie.junough@gmail.com        lacquer ware   73466.0\n",
      "20          yunome0505@gmail.com                bell   73466.0\n",
      "22       teruki.yunome@gmail.com           sculpture   73466.0\n",
      "28      comprador.yuno@gmail.com     painting scroll   38125.0\n",
      "34       daichi.yunome@gmail.com              prints   38126.0\n",
      "43          junoyuno55@gmail.com               bowls   37935.0\n",
      "69                             ?              katana   66841.0\n",
      "112  yuno.nuevo.nomada@gmail.com  shingeki no kyojin    1345.0\n",
      "119        caoilejunoh@gmail.com         dragon ball   13666.0\n",
      "122       yunomekazuki@gmail.com              batman  158671.0\n",
      "125       yunomekazuki@gmail.com           spiderman  158671.0\n",
      "127       yunomekazuki@gmail.com               x-men   17085.0\n",
      "128       yunomekazuki@gmail.com               x-men  158671.0\n",
      "130       yunomekazuki@gmail.com            avengers  158671.0\n",
      "131      tomoki.yunome@gmail.com           star wars   75708.0\n"
     ]
    }
   ],
   "source": [
    "df = df.drop_duplicates(['id', 'main key', 'CategNum'])\n",
    "print(df)\n",
    "\n",
    "\n",
    "# ↓ 危険。ATKが指定のシートのみになる\n",
    "# df.to_excel(atk, sheet_name='出品前', index=False)"
   ]
  },
  {
   "cell_type": "markdown",
   "metadata": {},
   "source": [
    "### IDでGroupbyし、"
   ]
  },
  {
   "cell_type": "code",
   "execution_count": 68,
   "metadata": {},
   "outputs": [
    {
     "name": "stdout",
     "output_type": "stream",
     "text": [
      "geijutsu.yuno@gmail.com 73466.0 incense burner\n",
      "geijutsu.yuno@gmail.com 73466.0  tea ceremony\n",
      "yunome0505@gmail.com 73466.0 buddhist copper\n",
      "yunome0505@gmail.com 73466.0 buddhist altar\n",
      "yunome0505@gmail.com 73466.0 buddhist art\n",
      "ringo.yunome@gmail.com 73466.0  kanzashi hairpin\n",
      "julie.junough@gmail.com 73466.0 lacquer ware\n",
      "yunome0505@gmail.com 73466.0  bell\n",
      "teruki.yunome@gmail.com 73466.0  sculpture\n",
      "comprador.yuno@gmail.com 38125.0 painting scroll\n",
      "daichi.yunome@gmail.com 38126.0 prints\n",
      "junoyuno55@gmail.com 37935.0 bowls\n",
      "? 66841.0 katana\n",
      "yuno.nuevo.nomada@gmail.com 1345.0 shingeki no kyojin\n",
      "caoilejunoh@gmail.com 13666.0 dragon ball\n",
      "yunomekazuki@gmail.com 158671.0 batman\n",
      "yunomekazuki@gmail.com 158671.0 spiderman\n",
      "yunomekazuki@gmail.com 17085.0 x-men\n",
      "yunomekazuki@gmail.com 158671.0 x-men\n",
      "yunomekazuki@gmail.com 158671.0 avengers\n",
      "tomoki.yunome@gmail.com 75708.0 star wars\n"
     ]
    }
   ],
   "source": [
    "id_list = df.loc[:, 'id']\n",
    "mainKey_list = df.loc[:, 'main key']\n",
    "categNum_list = df.loc[:, 'CategNum']\n",
    "\n",
    "for id1, categNum, mainKey in list(zip(id_list, categNum_list, mainKey_list)): # [:2]\n",
    "    print(id1, categNum, mainKey)"
   ]
  },
  {
   "cell_type": "code",
   "execution_count": 76,
   "metadata": {},
   "outputs": [
    {
     "name": "stdout",
     "output_type": "stream",
     "text": [
      "73466.0 incense burner\n",
      "    サイトID  アイテムID                                                SKU  \\\n",
      "324    US     NaN  469f-b898-7b7c91a204df-o387166563-202004-1208-...   \n",
      "325    US     NaN  45c6-9d69-91a7f32d6bfb-f361632765-202004-1208-...   \n",
      "326    US     NaN  4bb1-9ffb-3adcace931d9-j637738507-202004-1208-...   \n",
      "327    US     NaN  450e-8374-c6d2967c8250-w382014595-202004-1208-...   \n",
      "330    US     NaN  4f46-9472-13ff11b3103d-f417039828-202004-1208-...   \n",
      "331    US     NaN  49c3-87f6-fba8651edd71-w381545757-202004-1208-...   \n",
      "332    US     NaN  -4d87-a330-8d0e0f8b08a5-465427516-202004-1208-...   \n",
      "333    US     NaN  427d-b744-9d0bc02d97bb-f406328272-202004-1208-...   \n",
      "334    US     NaN  4ba0-8b19-5a8f257d98b7-u347189108-202004-1208-...   \n",
      "335    US     NaN  4cd5-8d15-22040fed1a14-b463428884-202004-1208-...   \n",
      "337    US     NaN  48d6-9739-0e8b1844f2e5-b462355198-202004-1208-...   \n",
      "338    US     NaN  48f7-b3a1-1c47d416df6a-n413475836-202004-1208-...   \n",
      "\n",
      "                                                  タイトル     カテゴリ  サブカテゴリ  \\\n",
      "324  New immediately send a pure copper pattern inc...  73466.0     NaN   \n",
      "325  HS33180I  Suwa Soyama clam Incense dyed with l...  73466.0     NaN   \n",
      "326  TsuyoshiShin park incense burner MOVE incense ...  73466.0     NaN   \n",
      "327  Kutani Shohachi Yoshida lion knob incense burn...  73466.0     NaN   \n",
      "330  Fragrant wood inscription \"Wakasugi\" about 0.4...  73466.0     NaN   \n",
      "331  Fragrant wood \"clothing of Black\" inscription ...  73466.0     NaN   \n",
      "332  Fragrant wood Kyara Kowatari \"listen orchid\" l...  73466.0     NaN   \n",
      "333  Fragrant wood Kowatari life precious wood \"lot...  73466.0     NaN   \n",
      "334  Popular Buddhist set Yuihana champagne gold a ...  73466.0     NaN   \n",
      "335  Submerged yellow ripe incense 11.97g (Kyara ag...  73466.0     NaN   \n",
      "337  Vietnam Hoi-producing high-quality agarwood 8....  73466.0     NaN   \n",
      "338   Shirorinkama Akamatsu HakuHitoshisaku Mushika...  73466.0     NaN   \n",
      "\n",
      "     ストアカテゴリ  第2ストアカテゴリ  テンプレート  \\\n",
      "324      NaN        NaN     NaN   \n",
      "325      NaN        NaN     NaN   \n",
      "326      NaN        NaN     NaN   \n",
      "327      NaN        NaN     NaN   \n",
      "330      NaN        NaN     NaN   \n",
      "331      NaN        NaN     NaN   \n",
      "332      NaN        NaN     NaN   \n",
      "333      NaN        NaN     NaN   \n",
      "334      NaN        NaN     NaN   \n",
      "335      NaN        NaN     NaN   \n",
      "337      NaN        NaN     NaN   \n",
      "338      NaN        NaN     NaN   \n",
      "\n",
      "                                                  商品説明  ...  ISBN Brand  MPN  \\\n",
      "324  <div class=\"main1\" style=\"\"><h1 style=\"text-al...  ...   NaN   NaN  NaN   \n",
      "325  <div class=\"main1\" style=\"\"><h1 style=\"text-al...  ...   NaN   NaN  NaN   \n",
      "326  <div class=\"main1\" style=\"\"><h1 style=\"text-al...  ...   NaN   NaN  NaN   \n",
      "327  <div class=\"main1\" style=\"\"><h1 style=\"text-al...  ...   NaN   NaN  NaN   \n",
      "330  <div class=\"main1\" style=\"\"><h1 style=\"text-al...  ...   NaN   NaN  NaN   \n",
      "331  <div class=\"main1\" style=\"\"><h1 style=\"text-al...  ...   NaN   NaN  NaN   \n",
      "332  <div class=\"main1\" style=\"\"><h1 style=\"text-al...  ...   NaN   NaN  NaN   \n",
      "333  <div class=\"main1\" style=\"\"><h1 style=\"text-al...  ...   NaN   NaN  NaN   \n",
      "334  <div class=\"main1\" style=\"\"><h1 style=\"text-al...  ...   NaN   NaN  NaN   \n",
      "335  <div class=\"main1\" style=\"\"><h1 style=\"text-al...  ...   NaN   NaN  NaN   \n",
      "337  <div class=\"main1\" style=\"\"><h1 style=\"text-al...  ...   NaN   NaN  NaN   \n",
      "338  <div class=\"main1\" style=\"\"><h1 style=\"text-al...  ...   NaN   NaN  NaN   \n",
      "\n",
      "    EAN  荷物の幅  荷物の奥行き  荷物の長さ 荷物の重量 適合車種         mainkey  \n",
      "324 NaN   NaN     NaN    NaN   NaN  NaN  incense burner  \n",
      "325 NaN   NaN     NaN    NaN   NaN  NaN  incense burner  \n",
      "326 NaN   NaN     NaN    NaN   NaN  NaN  incense burner  \n",
      "327 NaN   NaN     NaN    NaN   NaN  NaN  incense burner  \n",
      "330 NaN   NaN     NaN    NaN   NaN  NaN  incense burner  \n",
      "331 NaN   NaN     NaN    NaN   NaN  NaN  incense burner  \n",
      "332 NaN   NaN     NaN    NaN   NaN  NaN  incense burner  \n",
      "333 NaN   NaN     NaN    NaN   NaN  NaN  incense burner  \n",
      "334 NaN   NaN     NaN    NaN   NaN  NaN  incense burner  \n",
      "335 NaN   NaN     NaN    NaN   NaN  NaN  incense burner  \n",
      "337 NaN   NaN     NaN    NaN   NaN  NaN  incense burner  \n",
      "338 NaN   NaN     NaN    NaN   NaN  NaN  incense burner  \n",
      "\n",
      "[12 rows x 54 columns]\n"
     ]
    }
   ],
   "source": [
    "for id1, categ, mainKey in list(zip(id_list, categNum_list, mainKey_list)): # [:2]\n",
    "    \n",
    "    print(categ, mainKey)\n",
    "    \n",
    "    df = pd.read_excel(atk, sheet_name='清書_詳細', index=None) \\\n",
    "        .sort_values(['watch', 'access'], ascending=[True, False]) # watchは1つでもあれば、トップの方へ\n",
    "    \n",
    "    df = df[df['即決価格_y'] != 0].drop(['watch', 'access', '即決価格_y'], axis=1)\n",
    "        # .query('カテゴリ in {categ} and mainkey in {mainkey)'.format(categ, mainkey))\n",
    "    \n",
    "    df = df[df['カテゴリ'].isin([categ])] # isin()で. isin()の値を[]で囲うことで動いた\n",
    "    #df = df[mask]\n",
    "    \n",
    "    #df = df[df['カテゴリ', 'mainkey'] == [categ, mainKey]] # boolean index で\n",
    "    #df = df[df['カテゴリ'] == categ] & 'mainkey']   \n",
    "    #df = df.query(\"カテゴリ== {} and mainkey== {}\".format(categ, mainKey)) # queryで\n",
    "    \n",
    "    df = df[df['mainkey'].isin([mainKey])].\\\n",
    "        query('開始価格 <= 500') # .iloc[50:]# 15行目から\n",
    "    \n",
    "    print(df)\n",
    "    \n",
    "    break"
   ]
  },
  {
   "cell_type": "code",
   "execution_count": null,
   "metadata": {},
   "outputs": [],
   "source": []
  }
 ],
 "metadata": {
  "kernelspec": {
   "display_name": "Python 3",
   "language": "python",
   "name": "python3"
  },
  "language_info": {
   "codemirror_mode": {
    "name": "ipython",
    "version": 3
   },
   "file_extension": ".py",
   "mimetype": "text/x-python",
   "name": "python",
   "nbconvert_exporter": "python",
   "pygments_lexer": "ipython3",
   "version": "3.7.3"
  }
 },
 "nbformat": 4,
 "nbformat_minor": 4
}
